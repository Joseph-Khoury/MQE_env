{
 "cells": [
  {
   "cell_type": "markdown",
   "id": "e344bdfe-499a-45b8-a96e-a1d21eede8f4",
   "metadata": {},
   "source": [
    "# Problem 1\n",
    "## Question\n",
    "1) 40 points\n",
    "(Analytical)\n",
    "\n",
    "Having an entangled 2 qubit state, e.g. $\\ket{\\Phi^{+}} = \\frac{1}{\\sqrt{2}} (\\ket{00} + \\ket{11})$, show that the eigenvalues with respect to the observables XI, IX, IZ, ZI are zero, and the eigenvalues with respect to the observables XX and ZZ are 1.\n",
    "\n",
    "Hint:\n",
    "The eigensate $\\ket{\\psi}$ of an operator $\\tilde{O}$ with eigenvalue $\\lambda$ is defined via the relation: $\\tilde{O} \\ket{\\psi} = \\lambda \\ket{\\psi}$. \n",
    "\n",
    "For this exercise consider $\\tilde{O} \\in \\{ XI, IX, IZ, ZI, XX, ZZ \\}$.\n"
   ]
  },
  {
   "cell_type": "markdown",
   "id": "ccf38123",
   "metadata": {},
   "source": [
    "## Solution\n",
    "The solution to this problem involves proving that, given the above Observables, the expectation values should always be 0 for the given quantum state. This will be done purely through the maths. \n",
    "Additionally, I will show the expectation values under additional observables for an additional remark concerning observation of $\\ket{\\Phi^{+}}$ by the tensor products of $\\set{X,I,Z}$."
   ]
  },
  {
   "cell_type": "markdown",
   "id": "a20aaaaa",
   "metadata": {},
   "source": [
    "Calculating the probability of measuring Observable $\\tilde{O}_{n}$ from state $\\ket{\\psi}$ is done via the following equation:\n",
    "$$\\large\n",
    "p(n) = \\bra{\\psi}\\tilde{O}_{n}\\ket{\\psi}\\,.\n",
    "$$\n",
    "\n",
    "So for the eigenvalue of the observable to be zero, then $\\tilde{O}\\ket{\\psi}=\\ket{\\phi}$, $\\therefore \\braket{\\psi|\\phi}=0$.\n",
    "\n",
    "And for the eigenvalue of the observable to be one, $\\tilde{O}\\ket{\\psi}=\\ket{\\psi}$, $\\therefore \\braket{\\psi|\\psi}=1$."
   ]
  },
  {
   "cell_type": "markdown",
   "id": "1a2b198d",
   "metadata": {},
   "source": [
    "### Example of an observable with expectation value 0:\n",
    "$$\\large\n",
    "\\begin{align*}\n",
    "(X \\otimes I)\\ket{\\psi} = \n",
    "\\left(\\begin{bmatrix}\n",
    "0&  1\\\\\n",
    "1&  0\n",
    "\\end{bmatrix}\n",
    "\\otimes\n",
    "\\begin{bmatrix}\n",
    "1&  0\\\\\n",
    "0&  1\n",
    "\\end{bmatrix}\n",
    "\\right) \n",
    "\\begin{bmatrix}\n",
    "1\\\\0\\\\0\\\\1\n",
    "\\end{bmatrix}\n",
    "\\\\ \\\\=\n",
    "\\begin{bmatrix}\n",
    "0&  0&  1&  0\\\\\n",
    "0&  0&  0&  1\\\\\n",
    "1&  0&  0&  0\\\\\n",
    "0&  1&  0&  0\n",
    "\\end{bmatrix}\n",
    "\\begin{bmatrix}\n",
    "1\\\\0\\\\0\\\\1\n",
    "\\end{bmatrix}\n",
    "=\n",
    "\\begin{bmatrix}\n",
    "0\\\\1\\\\1\\\\0\n",
    "\\end{bmatrix} = \\ket{\\phi}\n",
    "\n",
    "\\end{align*}\n",
    "$$\n",
    "And now our expected value is the inner product $\\braket{\\psi|\\phi}$. These vectors are now orthogonal to each other and thus this inner product is zero:\n",
    "$$\\large\n",
    "\\braket{\\psi|\\phi} = \\begin{bmatrix}\n",
    "1&  0&  0&  1\n",
    "\\end{bmatrix}\n",
    "\\begin{bmatrix}\n",
    "0\\\\1\\\\1\\\\0\n",
    "\\end{bmatrix}\n",
    "= 0.\n",
    "$$\n"
   ]
  },
  {
   "cell_type": "markdown",
   "id": "383e4972",
   "metadata": {},
   "source": [
    "## Example of an observable with expected value 1:\n",
    "$$\\large\n",
    "\\begin{align*}\n",
    "\\left(X \\otimes X\\right)\\ket{\\psi} = \n",
    "\\left(\\begin{bmatrix}\n",
    "0&  1\\\\\n",
    "1&  0\n",
    "\\end{bmatrix}\n",
    "\\otimes\n",
    "\\begin{bmatrix}\n",
    "0&  1\\\\\n",
    "1&  0\n",
    "\\end{bmatrix}\n",
    "\\right)\n",
    "\\\\ \\\\ = \n",
    "\\begin{bmatrix}\n",
    "0&  0&  0&  1\\\\\n",
    "0&  0&  1&  0\\\\\n",
    "0&  1&  0&  0\\\\\n",
    "1&  0&  0&  0\n",
    "\\end{bmatrix}\n",
    "\\begin{bmatrix}\n",
    "1\\\\0\\\\0\\\\1\n",
    "\\end{bmatrix}\n",
    "= \n",
    "\\begin{bmatrix}\n",
    "1\\\\0\\\\0\\\\1\n",
    "\\end{bmatrix}\n",
    "=\\ket{\\psi}\n",
    "\\end{align*}\n",
    "$$\n",
    "So now our expected value is the inner product $\\braket{\\psi|\\psi}=1$."
   ]
  },
  {
   "cell_type": "markdown",
   "id": "78294da6",
   "metadata": {},
   "source": [
    "Now creating the code to perform the rest of the calculations just using numpy:"
   ]
  },
  {
   "cell_type": "code",
   "execution_count": 190,
   "id": "6e81e3e4",
   "metadata": {},
   "outputs": [],
   "source": [
    "# Importing necessary libraries\n",
    "import numpy as np\n",
    "from qiskit.quantum_info import Pauli, Operator"
   ]
  },
  {
   "cell_type": "code",
   "execution_count": 191,
   "id": "82c310f5",
   "metadata": {},
   "outputs": [
    {
     "name": "stdout",
     "output_type": "stream",
     "text": [
      "The expectation value under II is: 1.0\n",
      "The expectation value under IX is: 0.0\n",
      "The expectation value under IZ is: 0.0\n",
      "The expectation value under XI is: 0.0\n",
      "The expectation value under XX is: 1.0\n",
      "The expectation value under XZ is: 0.0\n",
      "The expectation value under ZI is: 0.0\n",
      "The expectation value under ZX is: 0.0\n",
      "The expectation value under ZZ is: 1.0\n"
     ]
    }
   ],
   "source": [
    "#Creating the quantum state\n",
    "bell_vector = 1/np.sqrt(2) * np.array([1,0,0,1])\n",
    "\n",
    "#Defining the Observables as a dict \n",
    "Observables = {\n",
    "    \"II\" : Pauli('II'),\n",
    "    \"IX\" : Pauli('IX'),\n",
    "    \"IZ\" : Pauli('IZ'),\n",
    "    \"XI\" : Pauli('XI'),\n",
    "    \"XX\" : Pauli('XX'),\n",
    "    \"XZ\" : Pauli('XZ'),\n",
    "    \"ZI\" : Pauli('ZI'),\n",
    "    \"ZX\" : Pauli(\"ZX\"),\n",
    "    \"ZZ\" : Pauli('ZZ'),\n",
    "}\n",
    "\n",
    "for name, observable in Observables.items():\n",
    "    operator = Operator(observable)\n",
    "    exp_value = np.round(np.real(np.matmul(bell_vector.T,np.matmul(operator,bell_vector))))\n",
    "    print(f\"The expectation value under {name} is: {exp_value}\")"
   ]
  },
  {
   "cell_type": "markdown",
   "metadata": {},
   "source": [
    "This gives us a neat result showing that with the group of $\\set{I,X,Z}$ with the tensor product will only produce an expectation value of 1 when applied as an observable for $\\ket{\\Phi^{+}}$ when $\\tilde{U}\\ket{\\Phi^{+}} = \\ket{\\Phi^{+}}$. \n",
    "\n",
    "Showing this as a table:\n",
    "$$\\large\n",
    "\\begin{array}{c|c c c}\n",
    "&   I&  X&  Z\\\\ \n",
    "\\hline\n",
    "I& 1&  0&  0\\\\\n",
    "X&  0&  1&  0\\\\\n",
    "Z&  0&  0&  1\n",
    "\\end{array}\n",
    "$$"
   ]
  },
  {
   "cell_type": "markdown",
   "id": "f45237c3",
   "metadata": {},
   "source": [
    "# Problem 2\n",
    "## Question\n",
    "2. 60 points (hands-on)\n",
    "   \n",
    "Create the operators $\\tilde{O} \\in \\{ XI, IX, IZ, ZI, XX, ZZ \\}$ and verify that its expecation values w.r.t to the bell state $\\ket{\\Phi^{+}}$ are indeed 0 or 1.\n",
    "\n",
    "Hint: Use the Qiskit Estimator primitive."
   ]
  },
  {
   "cell_type": "markdown",
   "id": "f43e6f44",
   "metadata": {},
   "source": [
    "## Solution"
   ]
  },
  {
   "cell_type": "code",
   "execution_count": 189,
   "id": "c7c57a6a",
   "metadata": {},
   "outputs": [],
   "source": [
    "from qiskit import QuantumCircuit\n",
    "\n",
    "# The V1 implementation of qiskit.primitives.Estimator() is being deprecated and replaced\n",
    "# with qiskit.primitives.StatevectorEstimator()\n",
    "from qiskit.primitives import StatevectorEstimator\n",
    "\n",
    "estimator = StatevectorEstimator()"
   ]
  },
  {
   "cell_type": "code",
   "execution_count": 188,
   "id": "be1abeb9",
   "metadata": {},
   "outputs": [
    {
     "name": "stdout",
     "output_type": "stream",
     "text": [
      "Expectation under II is: 1.0\n",
      "Expectation under IX is: 0.0\n",
      "Expectation under IZ is: 0.0\n",
      "Expectation under XI is: 0.0\n",
      "Expectation under XX is: 1.0\n",
      "Expectation under XZ is: 0.0\n",
      "Expectation under ZI is: 0.0\n",
      "Expectation under ZX is: 0.0\n",
      "Expectation under ZZ is: 1.0\n"
     ]
    }
   ],
   "source": [
    "# Creating the bell circuit\n",
    "bell_circ = QuantumCircuit(2)\n",
    "bell_circ.h(0)\n",
    "bell_circ.cx(0,1)\n",
    "\n",
    "operators = [operator for operator in Observables.values()]\n",
    "\n",
    "# The StatevectorEstimator needs a data type known as a Primitive Unified Bloc (PUB)\n",
    "# which is an iterable with the circuit, operators, and other parameters.\n",
    "pub = (bell_circ, operators)\n",
    "\n",
    "job = estimator.run([pub]) # The PUB needs to be passed as an array (multiple pubs)\n",
    "result = job.result()[0]\n",
    "\n",
    "for name, exp_value in zip(Observables.keys(), np.round(result.data.evs)):\n",
    "    print(f\"Expectation under {name} is: {exp_value}\")"
   ]
  }
 ],
 "metadata": {
  "kernelspec": {
   "display_name": "qiskit_env",
   "language": "python",
   "name": "python3"
  },
  "language_info": {
   "codemirror_mode": {
    "name": "ipython",
    "version": 3
   },
   "file_extension": ".py",
   "mimetype": "text/x-python",
   "name": "python",
   "nbconvert_exporter": "python",
   "pygments_lexer": "ipython3",
   "version": "3.12.0"
  }
 },
 "nbformat": 4,
 "nbformat_minor": 5
}
