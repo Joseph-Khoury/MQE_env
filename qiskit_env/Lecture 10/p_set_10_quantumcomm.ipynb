{
 "cells": [
  {
   "cell_type": "markdown",
   "metadata": {},
   "source": [
    "1. 30 points\n",
    "\n",
    "Finish the calculation for the rest of the terms. During the lecture we did the math for the first term (slide 5) resulting during Alice's Bell measurement. \n",
    "\n",
    "Alice has the state $ \\alpha \\ket{0}+\\beta \\ket{1}$ and wants to teleport this state to Bob.\n",
    "$$\n",
    "\\left({ \\alpha \\ket{0} +\\beta \\ket{1}  }\\right)(\\ket{00} +\\ket{11} ) = \\alpha(\\ket{000} +\\ket{011} ) + \\beta(\\ket{100} +\\ket{111} ).\n",
    "$$\n",
    "Now for Bob to retrieve the state, he applies the CNOT $\\large q_{0}\\to q_{1}$\n",
    "$$\n",
    "\\implies \\alpha(\\ket{000} +\\ket{011} ) + \\beta(\\ket{110} +\\ket{101} ).\n",
    "$$\n",
    "Now Bob applies the Hadamard to $\\large q_{0}$:\n",
    "$$\n",
    "\\begin{align*}\n",
    "\\implies &\\alpha(\\ket{+00} +\\ket{+11} ) + \\beta(\\ket{-10} + \\ket{-01} )\n",
    "\\\\ \\\\\n",
    "=&\\frac{1}{\\sqrt{ 2 }}\\left[ \\alpha(\\ket{000} +\\ket{100} +\\ket{011} +\\ket{111} ) + \\beta(\\ket{010} - \\ket{110} +\\ket{001} -\\ket{101} ) \\right]\n",
    "\\\\ \\\\\n",
    "= & \\frac{1}{\\sqrt{ 2 }}\\begin{bmatrix}\n",
    "(\\alpha \\ket{0} +\\beta \\ket{1} )\\ket{00}  \\\\\n",
    "+ (\\alpha \\ket{1} + \\beta \\ket{0} )\\ket{01}  \\\\\n",
    "+ (\\alpha \\ket{0} - \\beta\\ket{1} )\\ket{10}  \\\\\n",
    "+ (\\alpha \\ket{1} - \\beta \\ket{0})\\ket{11}  \n",
    "\\end{bmatrix}.\n",
    "\\end{align*}\n",
    "$$\n"
   ]
  },
  {
   "cell_type": "markdown",
   "metadata": {},
   "source": [
    "In order for Bob to return his state to Alice's state $\\alpha\\ket{0} + \\beta\\ket{1}$, then for whichever basis he chose to measure in, he must apply the following operations to retrieve Alice's state:\n",
    "\n",
    "$$\n",
    "\\begin{array}{c|c|c}\n",
    "\\text{Basis of measurement} & \\text{Post-measurement state} & \\text{Operation to retrieve state} \\\\\n",
    "\\hline\n",
    "\\ket{00} & \\alpha \\ket{0} +\\beta \\ket{1} & \\mathbb{1} \\\\\n",
    "\\ket{01} & \\alpha \\ket{1} + \\beta \\ket{0} & X \\\\\n",
    "\\ket{10} & \\alpha \\ket{0} - \\beta \\ket{1} & Z \\\\\n",
    "\\ket{11} & \\alpha \\ket{1} - \\beta \\ket{0} & ZX\n",
    "\\end{array}\n",
    "$$"
   ]
  },
  {
   "cell_type": "markdown",
   "metadata": {},
   "source": [
    "---"
   ]
  },
  {
   "cell_type": "markdown",
   "metadata": {},
   "source": [
    "2. 50 points\n",
    "\n",
    "Use the terms to show that with the following operations you can indeed recover Alice's state.\n",
    "\n",
    "|Ψ⟩ = α |0⟩ + β |1⟩\n",
    "\n",
    "00 -> |Ψ⟩\n",
    "\n",
    "10 -> Z|Ψ⟩\n",
    "\n",
    "01 -> X|Ψ⟩\n",
    "\n",
    "11 -> ZX|Ψ⟩"
   ]
  },
  {
   "cell_type": "markdown",
   "metadata": {},
   "source": [
    "If you measure Bob's state in a given basis, then the post-measurement state is a rotated version of Alice's state, meaning that it can be retrieved with the stated operations. By knowing the actions of the pauli rotation matrices it should be readily apparent why this retrieves the state. X flips the bit and Z flips the sign only if the qubit is in the $\\ket{1}$ state. The only state which needs a little bit of thinking is the $\\ket{11}$ state where you need to perform\n",
    "$$\n",
    "\\ket{\\psi^{(\\ket{11})}}\\alpha\\ket{1} - \\beta \\ket{0} \\stackrel{X}{\\to} \\alpha \\ket{0} -\\beta \\ket{1} \\stackrel{Z}{\\to}\\alpha \\ket{0} +\\beta \\ket{1}.  \n",
    "$$"
   ]
  },
  {
   "cell_type": "markdown",
   "metadata": {},
   "source": [
    "---"
   ]
  },
  {
   "cell_type": "markdown",
   "metadata": {},
   "source": [
    "3. 20 points\n",
    "\n",
    "How can you verify that teleportation of a quantum state has been successful in simulation? Is this also possible in an actual experiment? Note, there is no need for in-depths/mathematical explanations, rather make a google search and find out how something called 'quantum tomography' could be used for this. "
   ]
  },
  {
   "cell_type": "markdown",
   "metadata": {},
   "source": [
    "To verify successful quantum teleportation in both simulations and real experiments, researchers use quantum state tomography. This technique reconstructs the quantum state by performing a series of measurements from different angles, allowing for a comprehensive comparison between the original and teleported states. In practice, this involves measuring various properties of the quantum system to piece together its exact state. By comparing the reconstructed state with the initial one, scientists can determine the fidelity of the teleportation process. This method has been effectively employed in numerous experimental demonstrations of quantum teleportation, providing a reliable means to assess and confirm the accuracy of the process. The issue is that with QKD, you can use quantum tomography to verify a valid channel, however, when actually using the channel for a secure exchange, you are required to know what the original state was before hand which violates the **secure** part - which is the whole point. "
   ]
  }
 ],
 "metadata": {
  "kernelspec": {
   "display_name": "qiskit_env",
   "language": "python",
   "name": "python3"
  },
  "language_info": {
   "name": "python",
   "version": "3.11.11"
  }
 },
 "nbformat": 4,
 "nbformat_minor": 4
}
