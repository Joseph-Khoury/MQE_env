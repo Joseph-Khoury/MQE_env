{
 "cells": [
  {
   "cell_type": "code",
   "execution_count": 10,
   "metadata": {
    "editable": true,
    "executionInfo": {
     "elapsed": 3,
     "status": "ok",
     "timestamp": 1719246718799,
     "user": {
      "displayName": "Luise Prielinger",
      "userId": "16994785794205367254"
     },
     "user_tz": -120
    },
    "id": "3_2B2nxMXah2",
    "slideshow": {
     "slide_type": ""
    },
    "tags": []
   },
   "outputs": [],
   "source": [
    "from qiskit import QuantumCircuit, QuantumRegister, ClassicalRegister\n",
    "from qiskit.quantum_info import Statevector, Operator\n",
    "from qiskit.compiler import transpile\n",
    "import numpy as np\n",
    "from qiskit_aer import Aer\n",
    "from qiskit_aer import AerSimulator"
   ]
  },
  {
   "cell_type": "code",
   "execution_count": 11,
   "metadata": {
    "editable": true,
    "executionInfo": {
     "elapsed": 921,
     "status": "ok",
     "timestamp": 1719246718798,
     "user": {
      "displayName": "Luise Prielinger",
      "userId": "16994785794205367254"
     },
     "user_tz": -120
    },
    "id": "M1Icu9EME7Us",
    "slideshow": {
     "slide_type": ""
    },
    "tags": []
   },
   "outputs": [],
   "source": [
    "def run_circuit(qc):\n",
    "  backend = AerSimulator()\n",
    "  qc_compiled = transpile(qc, backend)\n",
    "\n",
    "  # Execute the circuit on the qasm simulator.\n",
    "  # We've set the number of repeats of the circuit to be 1024, which is the default.\n",
    "  job_sim = backend.run(qc_compiled, shots=1024)\n",
    "\n",
    "  # Grab the results from the job.\n",
    "  result_sim = job_sim.result()\n",
    "  return result_sim.get_counts()"
   ]
  },
  {
   "cell_type": "markdown",
   "metadata": {
    "editable": true,
    "id": "WrNH0dFNXcEZ",
    "slideshow": {
     "slide_type": ""
    },
    "tags": []
   },
   "source": [
    "\n",
    "\n",
    "1. Generate a quantum circuit that produces the state $1/\\sqrt{2}(\\ket{000}+\\ket{111})$ ([hint](https://quantum.ibm.com/composer/files/new?initial=N4IgdghgtgpiBcIDiAJAWiANCAjhAzlAiAPIAKAogHICKAggMoCyABAEwB0ADANwA6YAJZgAxgBsArgBMYLPrhhjBAIwCMHYSPn8wAnACcYAcxY4A2gGYAujpGGTIyzYECAFqbNdnogB4evmB6q3iJ%2B5gEebN7KEPr6gjD6-tGx8YlBKXEJSeZROlggMvh2ggAOAC6CAPZgxCAAvkA))"
   ]
  },
  {
   "cell_type": "code",
   "execution_count": 12,
   "metadata": {
    "colab": {
     "base_uri": "https://localhost:8080/",
     "height": 41
    },
    "editable": true,
    "executionInfo": {
     "elapsed": 2357,
     "status": "ok",
     "timestamp": 1719246743078,
     "user": {
      "displayName": "Luise Prielinger",
      "userId": "16994785794205367254"
     },
     "user_tz": -120
    },
    "id": "69G9EUR3rPfW",
    "outputId": "d3ae3707-4c29-4643-9896-994c1bc15d3f",
    "slideshow": {
     "slide_type": ""
    },
    "tags": []
   },
   "outputs": [
    {
     "data": {
      "text/latex": [
       "$$\\frac{\\sqrt{2}}{2} |000\\rangle+\\frac{\\sqrt{2}}{2} |111\\rangle$$"
      ],
      "text/plain": [
       "<IPython.core.display.Latex object>"
      ]
     },
     "execution_count": 12,
     "metadata": {},
     "output_type": "execute_result"
    }
   ],
   "source": [
    "cq = QuantumRegister(3, 'qubit')\n",
    "qc = QuantumCircuit(cq)\n",
    "\n",
    "# Your code goes here:\n",
    "qc.h(cq[0])\n",
    "qc.cx(cq[0], cq[1])\n",
    "qc.cx(cq[0], cq[2])\n",
    "\n",
    "sv = Statevector(qc)\n",
    "sv.draw(output = 'latex')"
   ]
  },
  {
   "cell_type": "markdown",
   "metadata": {
    "editable": true,
    "id": "F-WmvlpZYlA1",
    "slideshow": {
     "slide_type": ""
    },
    "tags": []
   },
   "source": [
    "2. Measure all qubits and draw the circuit using `measure_all()`."
   ]
  },
  {
   "cell_type": "code",
   "execution_count": 13,
   "metadata": {
    "colab": {
     "base_uri": "https://localhost:8080/",
     "height": 152
    },
    "editable": true,
    "executionInfo": {
     "elapsed": 574,
     "status": "ok",
     "timestamp": 1719246748592,
     "user": {
      "displayName": "Luise Prielinger",
      "userId": "16994785794205367254"
     },
     "user_tz": -120
    },
    "id": "nij9oMMQIMl_",
    "outputId": "dac74b64-0db1-441b-f752-fe7b3dde2fe9",
    "slideshow": {
     "slide_type": ""
    },
    "tags": []
   },
   "outputs": [
    {
     "data": {
      "image/png": "[encoded data removed]",
      "text/plain": [
       "<Figure size 761.647x367.889 with 1 Axes>"
      ]
     },
     "execution_count": 13,
     "metadata": {},
     "output_type": "execute_result"
    }
   ],
   "source": [
    "qc.measure_all()\n",
    "qc.draw(\"mpl\")"
   ]
  },
  {
   "cell_type": "markdown",
   "metadata": {
    "editable": true,
    "id": "3I6kA9y1YtiU",
    "slideshow": {
     "slide_type": ""
    },
    "tags": []
   },
   "source": [
    "3. Run the circuit using `run_circuit()` does the outcome behave as expected?"
   ]
  },
  {
   "cell_type": "code",
   "execution_count": 14,
   "metadata": {
    "colab": {
     "base_uri": "https://localhost:8080/",
     "height": 258
    },
    "editable": true,
    "executionInfo": {
     "elapsed": 959,
     "status": "error",
     "timestamp": 1719246752962,
     "user": {
      "displayName": "Luise Prielinger",
      "userId": "16994785794205367254"
     },
     "user_tz": -120
    },
    "id": "EE4y9QcIDZEL",
    "outputId": "f84c1a00-cb5f-4c37-9981-7dbb2f8d19c9",
    "slideshow": {
     "slide_type": ""
    },
    "tags": []
   },
   "outputs": [
    {
     "data": {
      "text/plain": [
       "{'111': 516, '000': 508}"
      ]
     },
     "execution_count": 14,
     "metadata": {},
     "output_type": "execute_result"
    }
   ],
   "source": [
    "run_circuit(qc)"
   ]
  },
  {
   "cell_type": "markdown",
   "metadata": {
    "editable": true,
    "id": "cMK8LJGoZG4T",
    "slideshow": {
     "slide_type": ""
    },
    "tags": []
   },
   "source": [
    "$$\\newcommand{\\ketbra}[2]{\\mathinner{|{#1}\\rangle\\,\\langle{#2}|}}$$\n",
    "4. Generate the operator P1 = $\\ketbra{010}{010} + \\ketbra{101}{101}$ using the right `np.kron` and `np.outer` and passing it to `Operator`."
   ]
  },
  {
   "cell_type": "code",
   "execution_count": 15,
   "metadata": {
    "editable": true,
    "id": "f5ocuz4pKPCS",
    "slideshow": {
     "slide_type": ""
    },
    "tags": []
   },
   "outputs": [],
   "source": [
    "# Basis states\n",
    "zero = np.array([1, 0])\n",
    "one = np.array([0, 1])\n",
    "\n",
    "# Create |000⟩ and |111⟩\n",
    "state_000 = np.kron(np.kron(zero, zero), zero)\n",
    "state_111 = np.kron(np.kron(one, one), one)\n",
    "\n",
    "# Create |010⟩ and |101⟩\n",
    "state_010 = np.kron(np.kron(zero, one), zero)\n",
    "state_101 = np.kron(np.kron(one, zero), one)\n",
    "\n",
    "# Projection operator 1\n",
    "proj_000 = np.outer(state_000, state_000)\n",
    "proj_111 = np.outer(state_111, state_111)\n",
    "proj_operator_1 = proj_000 + proj_111\n",
    "\n",
    "# Projection operator 2\n",
    "proj_010 = np.outer(state_010, state_010)\n",
    "proj_101 = np.outer(state_101, state_101)\n",
    "proj_operator_2 = proj_010 + proj_101\n",
    "\n",
    "# Convert to Qiskit Operator\n",
    "projection_operator_1 = Operator(proj_operator_1)\n",
    "projection_operator_2 = Operator(proj_operator_2)"
   ]
  },
  {
   "cell_type": "code",
   "execution_count": 16,
   "metadata": {
    "editable": true,
    "slideshow": {
     "slide_type": ""
    },
    "tags": []
   },
   "outputs": [
    {
     "ename": "ModuleNotFoundError",
     "evalue": "No module named 'utils_9'",
     "output_type": "error",
     "traceback": [
      "\u001b[0;31m---------------------------------------------------------------------------\u001b[0m",
      "\u001b[0;31mModuleNotFoundError\u001b[0m                       Traceback (most recent call last)",
      "Cell \u001b[0;32mIn[16], line 1\u001b[0m\n\u001b[0;32m----> 1\u001b[0m \u001b[38;5;28;01mfrom\u001b[39;00m \u001b[38;5;21;01mutils_9\u001b[39;00m \u001b[38;5;28;01mimport\u001b[39;00m create_projection_3\n\u001b[1;32m      2\u001b[0m \u001b[38;5;66;03m# This will be your homework\u001b[39;00m\n\u001b[1;32m      3\u001b[0m projection_operator_3 \u001b[38;5;241m=\u001b[39m create_projection_3()\n",
      "\u001b[0;31mModuleNotFoundError\u001b[0m: No module named 'utils_9'"
     ]
    }
   ],
   "source": [
    "# from utils_9 import create_projection_3\n",
    "# # This will be your homework\n",
    "# projection_operator_3 = create_projection_3()"
   ]
  },
  {
   "cell_type": "markdown",
   "metadata": {
    "editable": true,
    "id": "kFJLSNceaSMd",
    "slideshow": {
     "slide_type": ""
    },
    "tags": []
   },
   "source": [
    "5. Calculate the expectation value of the projection operator acting on the `Statevector` produced by the circuit `qc`."
   ]
  },
  {
   "cell_type": "code",
   "execution_count": 18,
   "metadata": {
    "colab": {
     "base_uri": "https://localhost:8080/"
    },
    "editable": true,
    "executionInfo": {
     "elapsed": 1,
     "status": "ok",
     "timestamp": 1719165070321,
     "user": {
      "displayName": "Luise Prielinger",
      "userId": "16994785794205367254"
     },
     "user_tz": -120
    },
    "id": "3o0cxydYOOSV",
    "outputId": "b04de94d-aa85-47a8-ddc8-b058541399fd",
    "slideshow": {
     "slide_type": ""
    },
    "tags": []
   },
   "outputs": [
    {
     "name": "stdout",
     "output_type": "stream",
     "text": [
      "E of projection operator 1: (0.9999999999999998+0j)\n",
      "E of projection operator 2: 0j\n"
     ]
    }
   ],
   "source": [
    "print(f\"E of projection operator 1: {sv.expectation_value(projection_operator_1)}\")\n",
    "print(f\"E of projection operator 2: {sv.expectation_value(projection_operator_2)}\")\n",
    "# print(f\"E of projection operator 3: {sv.expectation_value(projection_operator_3)}\")\n"
   ]
  },
  {
   "cell_type": "markdown",
   "metadata": {
    "editable": true,
    "id": "h9bZBolKZ9ZG",
    "slideshow": {
     "slide_type": ""
    },
    "tags": []
   },
   "source": [
    "6. Now is the time! Make a qubit-flip happen using `qc.x` on the second qubit. If you did it right, you state should now get $1/\\sqrt{2}(\\ket{010}+\\ket{101})$"
   ]
  },
  {
   "cell_type": "code",
   "execution_count": 19,
   "metadata": {
    "colab": {
     "base_uri": "https://localhost:8080/",
     "height": 41
    },
    "editable": true,
    "executionInfo": {
     "elapsed": 268,
     "status": "ok",
     "timestamp": 1719167860530,
     "user": {
      "displayName": "Luise Prielinger",
      "userId": "16994785794205367254"
     },
     "user_tz": -120
    },
    "id": "N3UYJFvxIqrB",
    "outputId": "a057d968-7040-43c2-d5cc-b96ad01ebc6b",
    "slideshow": {
     "slide_type": ""
    },
    "tags": []
   },
   "outputs": [
    {
     "data": {
      "text/latex": [
       "$$\\frac{\\sqrt{2}}{2} |010\\rangle+\\frac{\\sqrt{2}}{2} |101\\rangle$$"
      ],
      "text/plain": [
       "<IPython.core.display.Latex object>"
      ]
     },
     "execution_count": 19,
     "metadata": {},
     "output_type": "execute_result"
    }
   ],
   "source": [
    "cq_2 = QuantumRegister(3, 'code_qubit')\n",
    "qc_2 = QuantumCircuit(cq_2)\n",
    "qc_2.h(cq_2[0])\n",
    "qc_2.cx(cq_2[0], cq_2[1])\n",
    "qc_2.cx(cq_2[0], cq_2[2])\n",
    "qc_2.x(cq_2[1])\n",
    "sv_flipped_2 = Statevector(qc_2)\n",
    "sv_flipped_2.draw(output = 'latex')"
   ]
  },
  {
   "cell_type": "markdown",
   "metadata": {
    "id": "adZJzdYdaymd"
   },
   "source": [
    "7. Calculate the expecation value of your projection operator - can it detect the error?"
   ]
  },
  {
   "cell_type": "code",
   "execution_count": 20,
   "metadata": {
    "colab": {
     "base_uri": "https://localhost:8080/"
    },
    "executionInfo": {
     "elapsed": 290,
     "status": "ok",
     "timestamp": 1719165070899,
     "user": {
      "displayName": "Luise Prielinger",
      "userId": "16994785794205367254"
     },
     "user_tz": -120
    },
    "id": "fLF9GRRL8trL",
    "outputId": "a91ba3b4-f10d-4a3c-f29b-746898d9778c"
   },
   "outputs": [
    {
     "name": "stdout",
     "output_type": "stream",
     "text": [
      "E of projection operator 1: 0j\n",
      "E of projection operator 2: (0.9999999999999998+0j)\n"
     ]
    }
   ],
   "source": [
    "print(f\"E of projection operator 1: {sv_flipped_2.expectation_value(projection_operator_1)}\")\n",
    "print(f\"E of projection operator 2: {sv_flipped_2.expectation_value(projection_operator_2)}\")\n",
    "# print(f\"E of projection operator 3: {sv_flipped_2.expectation_value(projection_operator_3)}\")"
   ]
  },
  {
   "cell_type": "markdown",
   "metadata": {},
   "source": [
    "8. Apply `qc.x` on the first qubit - this should result in a bit flip at the first qubit. If you did it right, you should get $1/\\sqrt{2}(\\ket{001}+\\ket{110})$"
   ]
  },
  {
   "cell_type": "code",
   "execution_count": 21,
   "metadata": {},
   "outputs": [
    {
     "data": {
      "text/latex": [
       "$$\\frac{\\sqrt{2}}{2} |001\\rangle+\\frac{\\sqrt{2}}{2} |110\\rangle$$"
      ],
      "text/plain": [
       "<IPython.core.display.Latex object>"
      ]
     },
     "execution_count": 21,
     "metadata": {},
     "output_type": "execute_result"
    }
   ],
   "source": [
    "cq_3 = QuantumRegister(3, 'code_qubit')\n",
    "qc_3 = QuantumCircuit(cq_3)\n",
    "qc_3.h(cq_3[0])\n",
    "qc_3.cx(cq_3[0], cq_3[1])\n",
    "qc_3.cx(cq_3[0], cq_3[2])\n",
    "qc_3.x(cq_3[0])\n",
    "sv_flipped_3 = Statevector(qc_3)\n",
    "sv_flipped_3.draw(output = 'latex')"
   ]
  },
  {
   "cell_type": "markdown",
   "metadata": {},
   "source": [
    "9. Does the operator you constructed detect this error as well?"
   ]
  },
  {
   "cell_type": "code",
   "execution_count": 22,
   "metadata": {},
   "outputs": [
    {
     "name": "stdout",
     "output_type": "stream",
     "text": [
      "E of projection operator 1: 0j\n",
      "E of projection operator 2: 0j\n"
     ]
    }
   ],
   "source": [
    "print(f\"E of projection operator 1: {sv_flipped_3.expectation_value(projection_operator_1)}\")\n",
    "print(f\"E of projection operator 2: {sv_flipped_3.expectation_value(projection_operator_2)}\")\n",
    "# print(f\"E of projection operator 3: {sv_flipped_3.expectation_value(projection_operator_3)}\")"
   ]
  },
  {
   "cell_type": "code",
   "execution_count": null,
   "metadata": {
    "editable": true,
    "slideshow": {
     "slide_type": ""
    },
    "tags": []
   },
   "outputs": [],
   "source": []
  }
 ],
 "metadata": {
  "colab": {
   "authorship_tag": "ABX9TyMhYAytbt66NOEgk/OAh3D1",
   "provenance": []
  },
  "kernelspec": {
   "display_name": "qiskit_env",
   "language": "python",
   "name": "python3"
  },
  "language_info": {
   "codemirror_mode": {
    "name": "ipython",
    "version": 3
   },
   "file_extension": ".py",
   "mimetype": "text/x-python",
   "name": "python",
   "nbconvert_exporter": "python",
   "pygments_lexer": "ipython3",
   "version": "3.11.11"
  }
 },
 "nbformat": 4,
 "nbformat_minor": 4
}
