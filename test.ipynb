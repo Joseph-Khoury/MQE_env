{
 "cells": [
  {
   "cell_type": "code",
   "execution_count": 8,
   "metadata": {},
   "outputs": [
    {
     "name": "stdout",
     "output_type": "stream",
     "text": [
      "                            Probability\n",
      "Alice Measures Bob Measures            \n",
      "H              H                    1/8\n",
      "               V                      0\n",
      "               D                   1/16\n",
      "               A                   1/16\n",
      "V              H                      0\n",
      "               V                    1/8\n",
      "               D                   1/16\n",
      "               A                   1/16\n",
      "D              H                   1/16\n",
      "               V                   1/16\n",
      "               D                    1/8\n",
      "               A                      0\n",
      "A              H                   1/16\n",
      "               V                   1/16\n",
      "               D                      0\n",
      "               A                    1/8\n"
     ]
    }
   ],
   "source": [
    "import numpy as np\n",
    "from fractions import Fraction\n",
    "import pandas as pd  # For a cleaner table output\n",
    "\n",
    "# Define basis states\n",
    "H = np.array([[1], [0]])  # |H⟩\n",
    "V = np.array([[0], [1]])  # |V⟩\n",
    "\n",
    "# Define measurement bases\n",
    "D = (H + V) / np.sqrt(2)  # |D⟩\n",
    "A = (H - V) / np.sqrt(2)  # |A⟩\n",
    "\n",
    "# Construct projectors\n",
    "P_H = 1/2 * H @ H.T\n",
    "P_V = 1/2 * V @ V.T\n",
    "P_D = 1/2 * D @ D.T\n",
    "P_A = 1/2 * A @ A.T\n",
    "\n",
    "# POVMs as a dictionary\n",
    "POVMs = {\n",
    "    'H': P_H, 'V': P_V,\n",
    "    'D': P_D, 'A': P_A\n",
    "}\n",
    "\n",
    "# Define Bell state |Φ⁺⟩ = (|HH⟩ + |VV⟩) / sqrt(2)\n",
    "HH = np.kron(H, H)\n",
    "VV = np.kron(V, V)\n",
    "# rho_AB = 1/2 * (HH @ HH.T + VV @ VV.T)\n",
    "phi_AB = 1/np.sqrt(2) * (HH + VV)\n",
    "rho_AB = phi_AB @ phi_AB.T\n",
    "\n",
    "# Compute the p-table for each measurement combination\n",
    "p_table = {}\n",
    "\n",
    "for alice_meas, P_Alice in POVMs.items():\n",
    "    for bob_meas, P_Bob in POVMs.items():\n",
    "        P_joint = np.kron(P_Alice, P_Bob)  # Tensor product of measurement operators\n",
    "        prob = np.trace(P_joint @ rho_AB).real  # Compute probability\n",
    "        p_table[(alice_meas, bob_meas)] = Fraction(prob).limit_denominator()  # Convert to fraction\n",
    "\n",
    "# Convert to a readable Pandas table\n",
    "df = pd.DataFrame.from_dict(p_table, orient='index', columns=['Probability'])\n",
    "df.index = pd.MultiIndex.from_tuples(df.index, names=['Alice Measures', 'Bob Measures'])\n",
    "\n",
    "# Display as a fraction-based table\n",
    "print(df)\n"
   ]
  },
  {
   "cell_type": "code",
   "execution_count": 8,
   "metadata": {},
   "outputs": [
    {
     "name": "stdout",
     "output_type": "stream",
     "text": [
      "Critical q value: 0.747614\n"
     ]
    }
   ],
   "source": [
    "import sympy as sp\n",
    "\n",
    "q = sp.Symbol(\"q\")\n",
    "\n",
    "x = (1-q)/4\n",
    "y = (1+3*q)/4\n",
    "\n",
    "# S(A|E) = S(AE) - 1 = 0\n",
    "S_AE = -3*x*sp.log(x,2) - y*sp.log(y,2)\n",
    "joint_entropy_eq = S_AE - 1\n",
    "\n",
    "# Solve numerically in the range [0,1]\n",
    "q_critical = sp.nsolve(joint_entropy_eq, q, 0.5)  # Initial guess at 0.5\n",
    "\n",
    "print(f\"Critical q value: {q_critical.evalf():.6f}\")"
   ]
  }
 ],
 "metadata": {
  "kernelspec": {
   "display_name": "qiskit_env",
   "language": "python",
   "name": "python3"
  },
  "language_info": {
   "codemirror_mode": {
    "name": "ipython",
    "version": 3
   },
   "file_extension": ".py",
   "mimetype": "text/x-python",
   "name": "python",
   "nbconvert_exporter": "python",
   "pygments_lexer": "ipython3",
   "version": "3.11.11"
  }
 },
 "nbformat": 4,
 "nbformat_minor": 2
}
