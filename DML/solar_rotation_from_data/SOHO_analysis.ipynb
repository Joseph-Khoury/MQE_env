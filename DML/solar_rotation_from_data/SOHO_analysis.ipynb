{
 "cells": [
  {
   "cell_type": "markdown",
   "metadata": {},
   "source": [
    "# SOHO analysis \n",
    "The purpose of this notebook is to analysis visual-spectrum images of the sun from the SOHO imaging satellite at the L1 Lagrange point (meaning the images are from the same perspective as the Earth) and use this data to determine the rotational period of the sun."
   ]
  },
  {
   "cell_type": "code",
   "execution_count": 8,
   "metadata": {},
   "outputs": [],
   "source": [
    "import os\n",
    "from datetime import datetime\n",
    "\n",
    "Recompute = False #Make this True to run the computation from scratch (takes > 1 minute)\n",
    "\n",
    "# Function to extract the image paths and their timestamps\n",
    "def get_files_with_times(root_dir = \"data\"):\n",
    "    file_paths = []\n",
    "    times = []\n",
    "    for day_dir in sorted(os.listdir(root_dir)):\n",
    "        day_path = os.path.join(root_dir,day_dir)\n",
    "        if os.path.isdir(day_path):\n",
    "            for file in sorted(os.listdir(day_path)):\n",
    "                if file.endswith(\".jpg\"):\n",
    "                    time_str = file.split('_')[1] # Extract time (hhmm)\n",
    "                    time = datetime.strptime(f\"{day_dir}_{time_str}\", r\"%Y%m%d_%H%M\")\n",
    "                    file_paths.append(os.path.join(day_path,file))\n",
    "                    times.append(time)\n",
    "    return file_paths, times\n",
    "\n",
    "file_paths, times = get_files_with_times()"
   ]
  },
  {
   "cell_type": "markdown",
   "metadata": {},
   "source": [
    "The first step of data processing is preprocessing and identification of the sunspots. This is done via the utility `image_processing.py`. The utility uses contouring to identify the centroids of features on the sun which *should* correspond well to the sunspots."
   ]
  },
  {
   "cell_type": "code",
   "execution_count": 7,
   "metadata": {},
   "outputs": [
    {
     "data": {
      "application/vnd.jupyter.widget-view+json": {
       "model_id": "b9916cbf3fbc48fbaf08bfbca4e95cc8",
       "version_major": 2,
       "version_minor": 0
      },
      "text/plain": [
       "interactive(children=(Dropdown(description='Select Day:', options=('20250422', '20250423', '20250424', '202504…"
      ]
     },
     "metadata": {},
     "output_type": "display_data"
    }
   ],
   "source": [
    "import matplotlib.pyplot as plt\n",
    "from ipywidgets import interact, Dropdown\n",
    "from utils.image_processing import detect_sunspots\n",
    "import cv2\n",
    "\n",
    "# Create a dropdown to select days\n",
    "day_dirs = sorted([d for d in os.listdir(\"data\") if os.path.isdir(os.path.join(\"data\", d))])\n",
    "@interact(day=Dropdown(options=day_dirs, description=\"Select Day:\"))\n",
    "def show_day_images(day):\n",
    "    day_path = os.path.join(\"data\", day)\n",
    "    files = sorted([f for f in os.listdir(day_path) if f.endswith(\".jpg\")])[:16] #Only the first 12 images\n",
    "    \n",
    "    fig, axes = plt.subplots(3, 4, figsize=(15, 10))\n",
    "    for ax, file in zip(axes.flat, files):\n",
    "        img, centroids, solar_center, solar_radius = detect_sunspots(os.path.join(day_path, file))\n",
    "        print(centroids)\n",
    "        ax.imshow(cv2.cvtColor(img, cv2.COLOR_BGR2RGB))\n",
    "        ax.scatter([c[0] for c in centroids], [c[1] for c in centroids], s=5, c='blue')\n",
    "        ax.set_title(file.split('_')[1])  # Show time (hhmm)\n",
    "        ax.axis('off')\n",
    "    plt.tight_layout()"
   ]
  },
  {
   "cell_type": "markdown",
   "metadata": {},
   "source": [
    "The visualization above includes a drop down to select the day of choice and then the image represents all data (including coordinates at the top) collected from that date. The sunspot centroids are shown via blue dots."
   ]
  },
  {
   "cell_type": "markdown",
   "metadata": {},
   "source": [
    "---"
   ]
  },
  {
   "cell_type": "markdown",
   "metadata": {},
   "source": [
    "The next part of the data analysis involves tracking the sunspots between frames. This was quite a complicated process with a decent amount of trial and error, but the main issue I faced was actually an error in using Carrington coordinates instead of Stony coordinates. This meant that all of my velocities were centered around 0 as Carrington is a rotating reference frame where the same point on the sun would move as the Earth orbited."
   ]
  },
  {
   "cell_type": "code",
   "execution_count": 13,
   "metadata": {},
   "outputs": [],
   "source": [
    "'''\n",
    "This block computes the longitudinal angular-velocity of the sunspots between different\n",
    "images via a nearst neighbour algorithm. Due to the sheer amount of computation (and inefficient code),\n",
    "this block takes about 1~2 mins to run. Thus, the data is saved in a JSON file called sunspot_data.json.\n",
    "If you want to run this block, you must change <Recompute> to True in the first code block of this notebook.\n",
    "'''\n",
    "\n",
    "#This function is for saving to JSON\n",
    "def skycoord_to_dict(coord):\n",
    "    return {\n",
    "        'lon': coord.lon.deg,\n",
    "        'lat': coord.lat.deg,\n",
    "        'frame': coord.frame.name,\n",
    "        'unit': 'deg'\n",
    "    }\n",
    "\n",
    "if Recompute:\n",
    "    from utils.feature_tracking import SunspotTracker\n",
    "    from astropy.coordinates import SkyCoord\n",
    "    import json\n",
    "    \n",
    "    _, _, solar_center, solar_radius = detect_sunspots(file_paths[0]) #Initial value for solar radius from the first image\n",
    "    tracker = SunspotTracker(solar_center, solar_radius, 1)\n",
    "\n",
    "    #main feature tracking loop\n",
    "    for img, time in zip(file_paths, times):\n",
    "        img, centroids, solar_center, solar_radius = detect_sunspots(img)\n",
    "        \n",
    "        tracker.process_frame(time, centroids)\n",
    "    \n",
    "    #Filter the data\n",
    "    filtered_tracks = [t for t in tracker.tracks if len(t['velocities']) >= 1]\n",
    "    \n",
    "    #Write the data to JSON\n",
    "    #First convert necessary datatypes to str\n",
    "    for entry in filtered_tracks:\n",
    "        if 'times' in entry:\n",
    "            entry['times'] = [t.isoformat() if isinstance(t, datetime) else t for t in entry['times']]\n",
    "        if 'positions_helio' in entry:\n",
    "            entry['positions_helio'] = [skycoord_to_dict(coord) if isinstance(coord, SkyCoord) else coord for coord in entry['positions_helio']]\n",
    "   \n",
    "    with open(file='sunspot_data.json',mode='w') as f:\n",
    "        json.dump(filtered_tracks, f, indent=4)"
   ]
  },
  {
   "cell_type": "markdown",
   "metadata": {},
   "source": [
    "The data is saved into a JSON file and then the following codeblock is used to extract the data again."
   ]
  },
  {
   "cell_type": "markdown",
   "metadata": {},
   "source": [
    "%%Important thing to remember is that the longitudinal velocity is higher the closer you get to the equator. Additionally, the sun spins on a not-perfectly vertical axis, so that might influence velocities as well. Individual velocities are sporadic, but we can perform extra data analysis to try and extract the mitigating and random effects and isolate the rotation."
   ]
  },
  {
   "cell_type": "code",
   "execution_count": 9,
   "metadata": {},
   "outputs": [],
   "source": [
    "'''\n",
    "This code is to recover the data from the JSON\n",
    "'''\n",
    "from astropy.coordinates import SkyCoord\n",
    "from datetime import datetime\n",
    "import json\n",
    "\n",
    "def dict_to_skycoord(d):\n",
    "    return SkyCoord(lon=d['lon'], lat=d['lat'],\n",
    "                    frame=d['frame'], unit=d['unit'])\n",
    "\n",
    "with open(\"sunspot_data.json\", 'r') as f:\n",
    "    data = json.load(f)\n",
    "\n",
    "for entry in data:\n",
    "    if 'times' in entry:\n",
    "        entry['times'] = [datetime.fromisoformat(t) if isinstance(t, str) else t for t in entry['times']]\n",
    "    if 'positions_helio' in entry:\n",
    "        entry['positions_helio'] = [dict_to_skycoord(coord) if isinstance(coord, SkyCoord) else coord for coord in entry['positions_helio']]\n"
   ]
  },
  {
   "cell_type": "markdown",
   "metadata": {},
   "source": [
    "We can now use the same visualization code from before and match the coordinates of specific identified features with the centroids. This method is not perfect as I used a rudamentary, greedy assignment method. Possible improvements would be a 1:1 matching method rather than a FIFO approach; using velocity as a predictor and using precision markers (closest wins the identifier); Merge short tracks (although it'd be hard to know which to merge); and adding a Kalman filter for predictive smoothing. \n",
    "\n",
    "Aside from that, the identifiers can be visualized below."
   ]
  },
  {
   "cell_type": "code",
   "execution_count": 12,
   "metadata": {},
   "outputs": [
    {
     "data": {
      "application/vnd.jupyter.widget-view+json": {
       "model_id": "cc1c5106f80149d0bb8a7686a3cdd46d",
       "version_major": 2,
       "version_minor": 0
      },
      "text/plain": [
       "interactive(children=(Dropdown(description='Select Day:', options=('20250422', '20250423', '20250424', '202504…"
      ]
     },
     "metadata": {},
     "output_type": "display_data"
    }
   ],
   "source": [
    "import matplotlib.pyplot as plt\n",
    "from ipywidgets import interact, Dropdown\n",
    "from utils.image_processing import detect_sunspots\n",
    "import cv2\n",
    "\n",
    "# Create a dropdown to select days\n",
    "day_dirs = sorted([d for d in os.listdir(\"data\") if os.path.isdir(os.path.join(\"data\", d))])\n",
    "@interact(day=Dropdown(options=day_dirs, description=\"Select Day:\"))\n",
    "def show_day_images(day):\n",
    "    day_path = os.path.join(\"data\", day)\n",
    "    files = sorted([f for f in os.listdir(day_path) if f.endswith(\".jpg\")])[:16] #Only the first 12 images\n",
    "    \n",
    "    fig, axes = plt.subplots(3, 4, figsize=(15, 10))\n",
    "    for ax, file in zip(axes.flat, files):\n",
    "        img, centroids, solar_center, solar_radius = detect_sunspots(os.path.join(day_path, file))\n",
    "        print(centroids)\n",
    "        \n",
    "        ax.imshow(cv2.cvtColor(img, cv2.COLOR_BGR2RGB))\n",
    "        ax.scatter([c[0] for c in centroids], [c[1] for c in centroids], s=5, c='red')\n",
    "        matches = []\n",
    "        for i, coords in enumerate(centroids):\n",
    "            for track_idx, track in enumerate(data):\n",
    "                for j, pos_px in enumerate(track['positions_px']):\n",
    "                    if list(coords) == pos_px:\n",
    "                        matches.append([i,track_idx])\n",
    "        \n",
    "        for centroid_idx, track_id in matches:\n",
    "            x,y = centroids[centroid_idx]\n",
    "            ax.text(x + 3, y + 3, str(track_id), color='blue', fontsize=8, weight='bold')\n",
    "            \n",
    "        \n",
    "        \n",
    "        ax.set_title(file.split('_')[1])  # Show time (hhmm)\n",
    "        ax.axis('off')\n",
    "    plt.tight_layout()"
   ]
  },
  {
   "cell_type": "markdown",
   "metadata": {},
   "source": [
    "Notice that the same spot often jumps to another identifier. This shouldn't be too much of an issue as you can see below, the average track length is 4 — which is a pretty decent sample size."
   ]
  },
  {
   "cell_type": "code",
   "execution_count": 10,
   "metadata": {},
   "outputs": [
    {
     "name": "stdout",
     "output_type": "stream",
     "text": [
      "point 0: len = 4\n",
      "point 1: len = 2\n",
      "point 2: len = 7\n",
      "point 3: len = 8\n",
      "point 4: len = 3\n",
      "point 5: len = 11\n",
      "point 6: len = 11\n",
      "point 7: len = 3\n",
      "point 8: len = 6\n",
      "point 9: len = 8\n",
      "point 10: len = 1\n",
      "point 11: len = 2\n",
      "point 12: len = 2\n",
      "point 13: len = 3\n",
      "point 14: len = 6\n",
      "point 15: len = 2\n",
      "point 16: len = 15\n",
      "point 17: len = 2\n",
      "point 18: len = 8\n",
      "point 19: len = 1\n",
      "point 20: len = 3\n",
      "point 21: len = 1\n",
      "point 22: len = 1\n",
      "point 23: len = 1\n",
      "point 24: len = 3\n",
      "point 25: len = 3\n",
      "point 26: len = 1\n",
      "point 27: len = 1\n",
      "point 28: len = 1\n",
      "point 29: len = 4\n",
      "point 30: len = 1\n",
      "point 31: len = 2\n",
      "point 32: len = 2\n",
      "point 33: len = 1\n",
      "point 34: len = 3\n",
      "point 35: len = 2\n",
      "point 36: len = 2\n",
      "point 37: len = 3\n",
      "point 38: len = 1\n",
      "point 39: len = 1\n",
      "point 40: len = 7\n",
      "point 41: len = 1\n",
      "point 42: len = 1\n",
      "point 43: len = 2\n",
      "point 44: len = 1\n",
      "point 45: len = 2\n",
      "point 46: len = 2\n",
      "point 47: len = 1\n",
      "point 48: len = 10\n",
      "point 49: len = 3\n",
      "point 50: len = 6\n",
      "point 51: len = 2\n",
      "point 52: len = 5\n",
      "point 53: len = 2\n",
      "point 54: len = 12\n",
      "point 55: len = 3\n",
      "point 56: len = 1\n",
      "point 57: len = 2\n",
      "point 58: len = 1\n",
      "point 59: len = 3\n",
      "point 60: len = 1\n",
      "point 61: len = 1\n",
      "point 62: len = 2\n",
      "point 63: len = 8\n",
      "point 64: len = 2\n",
      "point 65: len = 1\n",
      "point 66: len = 9\n",
      "point 67: len = 2\n",
      "point 68: len = 2\n",
      "point 69: len = 3\n",
      "point 70: len = 21\n",
      "point 71: len = 6\n",
      "point 72: len = 4\n",
      "point 73: len = 5\n",
      "point 74: len = 3\n",
      "point 75: len = 1\n",
      "point 76: len = 2\n",
      "point 77: len = 4\n",
      "point 78: len = 3\n",
      "point 79: len = 1\n",
      "point 80: len = 1\n",
      "point 81: len = 4\n",
      "point 82: len = 3\n",
      "point 83: len = 1\n",
      "point 84: len = 13\n",
      "point 85: len = 14\n",
      "point 86: len = 2\n",
      "point 87: len = 2\n",
      "point 88: len = 1\n",
      "point 89: len = 4\n",
      "point 90: len = 6\n",
      "point 91: len = 15\n",
      "point 92: len = 5\n",
      "point 93: len = 5\n",
      "point 94: len = 1\n",
      "point 95: len = 1\n",
      "point 96: len = 1\n",
      "point 97: len = 2\n",
      "point 98: len = 2\n",
      "point 99: len = 2\n",
      "point 100: len = 5\n",
      "point 101: len = 3\n",
      "point 102: len = 18\n",
      "point 103: len = 2\n",
      "point 104: len = 4\n",
      "point 105: len = 3\n",
      "point 106: len = 1\n",
      "point 107: len = 4\n",
      "point 108: len = 16\n",
      "point 109: len = 5\n",
      "point 110: len = 2\n",
      "point 111: len = 2\n",
      "point 112: len = 3\n",
      "point 113: len = 1\n",
      "point 114: len = 2\n",
      "point 115: len = 1\n",
      "point 116: len = 1\n",
      "point 117: len = 1\n",
      "4.0\n"
     ]
    }
   ],
   "source": [
    "#Number of datapoints for each feature\n",
    "lengths = []\n",
    "for i,entry in enumerate(data):\n",
    "    print(f\"point {i}: len = {len(entry['velocities'])}\")\n",
    "    lengths.append(len(entry))\n",
    "print(sum(lengths)/len(lengths))"
   ]
  },
  {
   "cell_type": "markdown",
   "metadata": {},
   "source": [
    "Things to try:\n",
    "- Plotting angular velocity by latitude"
   ]
  }
 ],
 "metadata": {
  "kernelspec": {
   "display_name": "qiskit_env",
   "language": "python",
   "name": "python3"
  },
  "language_info": {
   "codemirror_mode": {
    "name": "ipython",
    "version": 3
   },
   "file_extension": ".py",
   "mimetype": "text/x-python",
   "name": "python",
   "nbconvert_exporter": "python",
   "pygments_lexer": "ipython3",
   "version": "3.11.11"
  }
 },
 "nbformat": 4,
 "nbformat_minor": 2
}
