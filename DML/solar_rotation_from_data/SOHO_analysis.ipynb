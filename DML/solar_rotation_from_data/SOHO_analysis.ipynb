{
 "cells": [
  {
   "cell_type": "markdown",
   "metadata": {},
   "source": [
    "# SOHO analysis \n",
    "The purpose of this notebook is to analysis visual-spectrum images of the sun from the SDO imaging satellite at the L1 Lagrange point (meaning the images are from the same perspective as the Earth) and use this data to determine the rotational period of the sun."
   ]
  },
  {
   "cell_type": "code",
   "execution_count": 1,
   "metadata": {},
   "outputs": [],
   "source": [
    "#imports\n",
    "from datetime import datetime, timedelta\n",
    "import matplotlib.pyplot as plt\n",
    "import matplotlib.dates as mdates\n",
    "import numpy as np\n",
    "import pandas as pd\n",
    "\n",
    "from utils.data import *\n",
    "from utils.image_processing import detect_sunspots\n",
    "from utils.feature_tracking import SunspotTracker\n",
    "from utils.visualization import show_sunspot_images"
   ]
  },
  {
   "cell_type": "markdown",
   "metadata": {},
   "source": [
    "# Data fetching"
   ]
  },
  {
   "cell_type": "markdown",
   "metadata": {},
   "source": [
    "---"
   ]
  },
  {
   "cell_type": "markdown",
   "metadata": {},
   "source": [
    "First thing, we are going to access the SOHO databank (url below) and download the images from the SDO/HMI data archive over the interval from the 22<sup>nd</sup> of April to the 5<sup>th</sup> of May 2025. This is because this was the first data-set I downloaded. The interval can be adjusted though using the parameters in the cell below."
   ]
  },
  {
   "cell_type": "code",
   "execution_count": null,
   "metadata": {},
   "outputs": [
    {
     "name": "stderr",
     "output_type": "stream",
     "text": [
      "Downloading HMI images...:  40%|████      | 96/240 [00:01<00:02, 67.86img/s]"
     ]
    },
    {
     "name": "stdout",
     "output_type": "stream",
     "text": [
      "Achtung! Image not available: https://soho.nascom.nasa.gov/data/REPROCESSING/Completed/2025/hmiigr/20250427/20250427_2230_hmiigr_512.jpg\n"
     ]
    },
    {
     "name": "stderr",
     "output_type": "stream",
     "text": [
      "Downloading HMI images...: 100%|██████████| 240/240 [00:03<00:00, 78.71img/s]"
     ]
    },
    {
     "name": "stdout",
     "output_type": "stream",
     "text": [
      "Achtung! Image not available: https://soho.nascom.nasa.gov/data/REPROCESSING/Completed/2025/hmiigr/20250428/20250428_0000_hmiigr_512.jpg\n",
      "All requested files successfully downloaded!\n"
     ]
    },
    {
     "name": "stderr",
     "output_type": "stream",
     "text": [
      "\n"
     ]
    }
   ],
   "source": [
    "######################################Parameters##############################################\n",
    "data_bank_url = \"https://soho.nascom.nasa.gov/data/REPROCESSING/Completed/2025/hmiigr/\"\n",
    "save_dir = \"sdo_hmi_jpgs\"\n",
    "start_date = datetime(2025,4,22,0,0)\n",
    "end_date = datetime(2025,5,7,0,0)\n",
    "cadence = timedelta(hours=1.5)\n",
    "##############################################################################################\n",
    "\n",
    "# Download the images if they aren't already\n",
    "fetch_images(\n",
    "    data_bank_url, \n",
    "    save_dir, \n",
    "    start_date, \n",
    "    end_date, \n",
    "    cadence,\n",
    "    )\n",
    "\n",
    "# Collect the images\n",
    "file_paths, times = get_files_with_times(save_dir)\n"
   ]
  },
  {
   "cell_type": "markdown",
   "metadata": {},
   "source": [
    "# Preprocessing"
   ]
  },
  {
   "cell_type": "markdown",
   "metadata": {},
   "source": [
    "---"
   ]
  },
  {
   "cell_type": "markdown",
   "metadata": {},
   "source": [
    "## Spot detection"
   ]
  },
  {
   "cell_type": "markdown",
   "metadata": {},
   "source": [
    "The first step of data processing is preprocessing and identification of the sunspots. This is done via the utility `image_processing.py`. The utility uses contouring to identify the centroids of features on the sun which *should* correspond well to the sunspots.\n",
    "\n",
    "The process employed in the utility is as follows:\n",
    "1. The image is read into a *matrix-like*, and then converted into grayscale.\n",
    "2. The largest contour preprocessing will be the whole solar disc, so I use that to find the solar threshold/radius. I use this to form a mask over 95% of the radius where I will look for contours. This helps avoid certain errors of detection outside of the threshold (such as the text at the bottom).\n",
    "3. A gaussian blur is applied and an adaptive threshold is applied to isolate the sunspots more (similar to the sharpening setting on monitors).\n",
    "4. Some morphological cleanup is done to further increase the sharpness of the feature edges.\n",
    "5. Using opencv's contour function, the centroids of the sunspots are isolated.\n",
    "\n",
    "The centroids are plotted in blue on the interactive figure below with their listed pixel coordinates above the images."
   ]
  },
  {
   "cell_type": "code",
   "execution_count": 3,
   "metadata": {},
   "outputs": [
    {
     "data": {
      "application/vnd.jupyter.widget-view+json": {
       "model_id": "0dff462c302a4b73b039db19704be726",
       "version_major": 2,
       "version_minor": 0
      },
      "text/plain": [
       "interactive(children=(Dropdown(description='Select Day:', options=('20250422', '20250423', '20250424', '202504…"
      ]
     },
     "metadata": {},
     "output_type": "display_data"
    }
   ],
   "source": [
    "show_sunspot_images(file_paths)"
   ]
  },
  {
   "cell_type": "markdown",
   "metadata": {},
   "source": [
    "As you can see from the visualization, the most prominent sunspots are tracked very well by this approach. There are some slight anomalies (namely with a partial lunar eclipse)."
   ]
  },
  {
   "cell_type": "markdown",
   "metadata": {},
   "source": [
    "## Feature tracking"
   ]
  },
  {
   "cell_type": "markdown",
   "metadata": {},
   "source": [
    "The next part of the data analysis involves tracking the sunspots between frames. This was quite a complicated process with a decent amount of trial and error, but the main issue I faced was actually an error in using Carrington coordinates instead of Stony coordinates. This meant that all of my velocities were centered around 0 as Carrington is a rotating reference frame where the same point on the sun would move as the Earth orbited.\n",
    "\n",
    "The code below utilizes a nearest neighbour approach to associate sunspots between frames. It is a very rough approach and utilizes a greedy assignmment method which you will see doesn't produce perfect tracking."
   ]
  },
  {
   "cell_type": "code",
   "execution_count": 4,
   "metadata": {},
   "outputs": [],
   "source": [
    "'''\n",
    "This block computes the longitudinal angular-velocity of the sunspots between different\n",
    "images via a nearst neighbour algorithm. The data is saved in a JSON file called sunspot_data.json.\n",
    "'''\n",
    "\n",
    "_, _, solar_center, solar_radius = detect_sunspots(file_paths[0]) #Initial value for solar radius from the first image\n",
    "tracker = SunspotTracker(solar_center, solar_radius, 1)\n",
    "\n",
    "#main feature tracking loop\n",
    "for img, time in zip(file_paths, times):\n",
    "    img, centroids, solar_center, solar_radius = detect_sunspots(img)\n",
    "    \n",
    "    tracker.process_frame(time, centroids)\n",
    "\n",
    "#Filter the data to only include tracks with one or more velocities\n",
    "data = [t for t in tracker.tracks if len(t['velocities']) >= 1]"
   ]
  },
  {
   "cell_type": "code",
   "execution_count": 5,
   "metadata": {},
   "outputs": [],
   "source": [
    "#I have no clue why my code breaks if I don't convert back and forth from JSON but whatever...\n",
    "toJSON(data, \"sunspot_data.json\")\n",
    "data = fromJSON(\"sunspot_data.json\")"
   ]
  },
  {
   "cell_type": "markdown",
   "metadata": {},
   "source": [
    "We can now use the same visualization from before and match the coordinates of specific identified features with the centroids and list their indices along side the dots. You will now see why I meant the approach wasn't perfect."
   ]
  },
  {
   "cell_type": "code",
   "execution_count": 6,
   "metadata": {},
   "outputs": [
    {
     "data": {
      "application/vnd.jupyter.widget-view+json": {
       "model_id": "02a19ca684d940e491cc8ef06d6174b2",
       "version_major": 2,
       "version_minor": 0
      },
      "text/plain": [
       "interactive(children=(Dropdown(description='Select Day:', options=('20250422', '20250423', '20250424', '202504…"
      ]
     },
     "metadata": {},
     "output_type": "display_data"
    }
   ],
   "source": [
    "show_sunspot_images(file_paths, data)"
   ]
  },
  {
   "cell_type": "markdown",
   "metadata": {},
   "source": [
    "Notice that the same spot often jumps to another identifier. This shouldn't be too much of an issue as you can see below, the average track length is about 4, which is a pretty decent sample size."
   ]
  },
  {
   "cell_type": "code",
   "execution_count": 7,
   "metadata": {},
   "outputs": [
    {
     "name": "stdout",
     "output_type": "stream",
     "text": [
      "point 0: len = 1\n",
      "point 1: len = 2\n",
      "point 2: len = 2\n",
      "point 3: len = 1\n",
      "point 4: len = 1\n",
      "point 5: len = 4\n",
      "point 6: len = 2\n",
      "point 7: len = 2\n",
      "point 8: len = 1\n",
      "point 9: len = 1\n",
      "point 10: len = 2\n",
      "point 11: len = 5\n",
      "point 12: len = 2\n",
      "point 13: len = 1\n",
      "point 14: len = 3\n",
      "point 15: len = 2\n",
      "point 16: len = 2\n",
      "point 17: len = 12\n",
      "point 18: len = 4\n",
      "point 19: len = 1\n",
      "point 20: len = 1\n",
      "point 21: len = 1\n",
      "point 22: len = 1\n",
      "point 23: len = 7\n",
      "point 24: len = 3\n",
      "point 25: len = 3\n",
      "point 26: len = 1\n",
      "point 27: len = 4\n",
      "point 28: len = 18\n",
      "point 29: len = 4\n",
      "point 30: len = 1\n",
      "point 31: len = 1\n",
      "point 32: len = 3\n",
      "point 33: len = 2\n",
      "point 34: len = 2\n",
      "point 35: len = 2\n",
      "point 36: len = 3\n",
      "point 37: len = 1\n",
      "point 38: len = 2\n",
      "point 39: len = 4\n",
      "point 40: len = 1\n",
      "point 41: len = 3\n",
      "point 42: len = 1\n",
      "point 43: len = 3\n",
      "point 44: len = 1\n",
      "point 45: len = 4\n",
      "point 46: len = 8\n",
      "point 47: len = 2\n",
      "point 48: len = 1\n",
      "point 49: len = 1\n",
      "point 50: len = 3\n",
      "point 51: len = 2\n",
      "point 52: len = 2\n",
      "point 53: len = 1\n",
      "point 54: len = 1\n",
      "point 55: len = 2\n",
      "point 56: len = 1\n",
      "point 57: len = 2\n",
      "point 58: len = 2\n",
      "point 59: len = 3\n",
      "point 60: len = 1\n",
      "point 61: len = 3\n",
      "point 62: len = 8\n",
      "point 63: len = 7\n",
      "point 64: len = 1\n",
      "point 65: len = 1\n",
      "point 66: len = 11\n",
      "point 67: len = 1\n",
      "point 68: len = 2\n",
      "point 69: len = 1\n",
      "point 70: len = 1\n",
      "point 71: len = 1\n",
      "point 72: len = 1\n",
      "point 73: len = 2\n",
      "point 74: len = 1\n",
      "point 75: len = 6\n",
      "point 76: len = 3\n",
      "point 77: len = 2\n",
      "point 78: len = 9\n",
      "point 79: len = 1\n",
      "point 80: len = 2\n",
      "point 81: len = 3\n",
      "point 82: len = 2\n",
      "point 83: len = 3\n",
      "point 84: len = 1\n",
      "point 85: len = 1\n",
      "point 86: len = 1\n",
      "point 87: len = 2\n",
      "point 88: len = 1\n",
      "point 89: len = 1\n",
      "point 90: len = 1\n",
      "point 91: len = 1\n",
      "point 92: len = 1\n",
      "point 93: len = 2\n",
      "point 94: len = 2\n",
      "point 95: len = 6\n",
      "point 96: len = 2\n",
      "point 97: len = 1\n",
      "point 98: len = 2\n",
      "point 99: len = 2\n",
      "point 100: len = 5\n",
      "point 101: len = 3\n",
      "point 102: len = 2\n",
      "point 103: len = 1\n",
      "point 104: len = 3\n",
      "point 105: len = 3\n",
      "point 106: len = 19\n",
      "point 107: len = 21\n",
      "point 108: len = 3\n",
      "point 109: len = 1\n",
      "point 110: len = 1\n",
      "point 111: len = 1\n",
      "point 112: len = 4\n",
      "point 113: len = 14\n",
      "point 114: len = 7\n",
      "point 115: len = 1\n",
      "point 116: len = 1\n",
      "point 117: len = 1\n",
      "point 118: len = 2\n",
      "point 119: len = 2\n",
      "point 120: len = 3\n",
      "point 121: len = 5\n",
      "point 122: len = 4\n",
      "point 123: len = 1\n",
      "point 124: len = 3\n",
      "point 125: len = 3\n",
      "point 126: len = 2\n",
      "point 127: len = 1\n",
      "point 128: len = 2\n",
      "point 129: len = 2\n",
      "point 130: len = 2\n",
      "point 131: len = 1\n",
      "point 132: len = 1\n",
      "point 133: len = 1\n",
      "point 134: len = 2\n",
      "point 135: len = 1\n",
      "point 136: len = 1\n",
      "point 137: len = 2\n",
      "point 138: len = 2\n",
      "point 139: len = 1\n",
      "point 140: len = 1\n",
      "point 141: len = 1\n",
      "point 142: len = 1\n",
      "point 143: len = 1\n",
      "point 144: len = 1\n",
      "point 145: len = 2\n",
      "point 146: len = 2\n",
      "point 147: len = 1\n",
      "point 148: len = 1\n",
      "point 149: len = 3\n",
      "point 150: len = 1\n",
      "point 151: len = 1\n",
      "point 152: len = 1\n",
      "point 153: len = 2\n",
      "point 154: len = 9\n",
      "point 155: len = 4\n",
      "point 156: len = 2\n",
      "point 157: len = 1\n",
      "point 158: len = 3\n",
      "point 159: len = 4\n",
      "point 160: len = 1\n",
      "point 161: len = 1\n",
      "2.7037037037037037\n"
     ]
    }
   ],
   "source": [
    "#Number of datapoints for each feature\n",
    "lengths = []\n",
    "for i,entry in enumerate(data):\n",
    "    print(f\"point {i}: len = {len(entry['velocities'])}\")\n",
    "    lengths.append(len(entry['velocities']))\n",
    "print(sum(lengths)/len(lengths))"
   ]
  },
  {
   "cell_type": "markdown",
   "metadata": {},
   "source": [
    "## Data cleanup\n",
    "Some possible improvements to the feature tracking include:  a 1:1 matching method rather than a FIFO approach; using velocity as a predictor and using precision markers (closest wins the identifier); and adding a Kalman filter for predictive smoothing. But we shall be employing none of that."
   ]
  },
  {
   "cell_type": "markdown",
   "metadata": {},
   "source": [
    "Instead, we shall be doing data association. The utility `track_association()` takes the data and checks if the last values of any of the tracks and the start values of any other tracks are close enough in time and space. If they fall below a certain threshold (I set 3 hours and 5 degrees total difference), then the tracks are combined into one and the data is saved in `stitched_sunspot_tracks.json`. Additionally, as the stitched features are thought to be the same feature but just reclassified in the next frame, we need to calculate the velocity between the end point in the previous frame and the start point in the new frame.\n",
    "\n",
    "As you will see now, this stitching method is a big improvement!"
   ]
  },
  {
   "cell_type": "code",
   "execution_count": 8,
   "metadata": {},
   "outputs": [
    {
     "data": {
      "application/vnd.jupyter.widget-view+json": {
       "model_id": "c51cff0e339c414987ae87e0300d07ec",
       "version_major": 2,
       "version_minor": 0
      },
      "text/plain": [
       "interactive(children=(Dropdown(description='Select Day:', options=('20250422', '20250423', '20250424', '202504…"
      ]
     },
     "metadata": {},
     "output_type": "display_data"
    }
   ],
   "source": [
    "cleaned_data = track_association(data)\n",
    "toJSON(cleaned_data, \"stitched_sunspot_tracks.json\")\n",
    "cleaned_data = fromJSON(\"stitched_sunspot_tracks.json\")\n",
    "show_sunspot_images(file_paths, cleaned_data)"
   ]
  },
  {
   "cell_type": "markdown",
   "metadata": {},
   "source": [
    "As you can see, the spots are a lot more persistent now and don't randomly jump up values. And this improvement isn't just superficial. As you can see below, the total feature count went down from $173$ to just $30$! And the average number of frames went up from $\\sim 4$ up to about $22$ frames!"
   ]
  },
  {
   "cell_type": "code",
   "execution_count": 9,
   "metadata": {},
   "outputs": [
    {
     "name": "stdout",
     "output_type": "stream",
     "text": [
      "point 0: len = 28\n",
      "point 1: len = 28\n",
      "point 2: len = 35\n",
      "point 3: len = 4\n",
      "point 4: len = 9\n",
      "point 5: len = 2\n",
      "point 6: len = 4\n",
      "point 7: len = 48\n",
      "point 8: len = 11\n",
      "point 9: len = 3\n",
      "point 10: len = 2\n",
      "point 11: len = 19\n",
      "point 12: len = 10\n",
      "point 13: len = 9\n",
      "point 14: len = 2\n",
      "point 15: len = 17\n",
      "point 16: len = 2\n",
      "point 17: len = 4\n",
      "point 18: len = 29\n",
      "point 19: len = 21\n",
      "point 20: len = 5\n",
      "point 21: len = 102\n",
      "point 22: len = 64\n",
      "point 23: len = 72\n",
      "point 24: len = 30\n",
      "point 25: len = 2\n",
      "point 26: len = 16\n",
      "point 27: len = 14\n",
      "point 28: len = 2\n",
      "point 29: len = 6\n",
      "20.0\n"
     ]
    }
   ],
   "source": [
    "#Number of datapoints for each feature\n",
    "lengths = []\n",
    "for i,entry in enumerate(cleaned_data):\n",
    "    print(f\"point {i}: len = {len(entry['positions_px'])}\")\n",
    "    lengths.append(len(entry['positions_px']))\n",
    "print(sum(lengths)/len(lengths))"
   ]
  },
  {
   "cell_type": "markdown",
   "metadata": {},
   "source": [
    "# Data processing"
   ]
  },
  {
   "cell_type": "markdown",
   "metadata": {},
   "source": [
    "## Error estimation"
   ]
  },
  {
   "cell_type": "markdown",
   "metadata": {},
   "source": [
    "And now, after all of that, we actually have the data to process! First things first, we need to estimate our errors. Our error sources are:\n",
    "- Satellite errors (negligible)\n",
    "- pixel density\n",
    "- heliographic projection\n",
    "- cadence based-uncertainty"
   ]
  },
  {
   "cell_type": "markdown",
   "metadata": {},
   "source": [
    "Because the satellite is using very sophisticated technologies and atomic clocks, the actual telemetry has error so low that it is negligible. But when downloaded, we have compressed the data into a 512x512 pixel grid. As the sun's radius as calculated by the code is $235\\mathrm{px}$ and this defines a $90°$ longitude difference, our positional uncertainty is:\n",
    "$$\n",
    "\\delta \\rho = \\frac{90°}{235\\mathrm{px}} \\approx 0,383 °/\\mathrm{px}.\n",
    "$$\n"
   ]
  },
  {
   "cell_type": "markdown",
   "metadata": {},
   "source": [
    "Aside from that, image processing techniques were applied. \n",
    "- 3x3 Gaussian blur (~0,2px)\n",
    "- Dynamic thresholding (~0,3px)\n",
    "- Moment based centroids (~0,3px)\n",
    "\n",
    "The total pixel uncertainty from these contributions can be calculated by the total magnitude:\n",
    "$$\n",
    "\\delta p \\approx \\sqrt{0,2^2 + 0,3^2 + 0,3^2} \\approx 0,47\\mathrm{px}.\n",
    "$$"
   ]
  },
  {
   "cell_type": "markdown",
   "metadata": {},
   "source": [
    "Therefore, our heliographic uncertainty is \n",
    "$$\n",
    "\\delta \\theta = \\delta p \\times \\delta \\rho = 0,47\\mathrm{px} \\times 0,383°/\\mathrm{px} \\approx \\underline{0,180°}.\n",
    "$$"
   ]
  },
  {
   "cell_type": "markdown",
   "metadata": {},
   "source": [
    "And as for the time uncertainty, we can use the Nyquist criterion to justify that we would not be able to reconstruct any information that occurs within half or less of a period. Thus our time uncertainty is:\n",
    "$$\n",
    "\\delta t = 0,5 \\times 1,5\\mathrm{hrs} = \\underline{0,75\\mathrm{hrs}}.\n",
    "$$"
   ]
  },
  {
   "cell_type": "markdown",
   "metadata": {},
   "source": [
    "So in conclusion, our absolute uncertainties in our data are:\n",
    "\n",
    "$\\delta p = \\pm 0,47\\mathrm{px}$ -> pixel uncertainty\n",
    "\n",
    "$\\delta \\theta = \\pm 0,180°$ -> heliographic uncertainty\n",
    "\n",
    "$\\delta t = \\pm 0,75\\mathrm{hrs}$ -> time uncertainty"
   ]
  },
  {
   "cell_type": "code",
   "execution_count": 10,
   "metadata": {},
   "outputs": [],
   "source": [
    "PIXEL_UNCERTAINTY = 0.47 #px\n",
    "ANGLE_UNCERTAINTY = 0.18 #deg\n",
    "HOUR_UNCERTAINTY = 0.75 #hours\n",
    "DAY_UNCERTAINTY = 0.75 / 24 #days"
   ]
  },
  {
   "cell_type": "markdown",
   "metadata": {},
   "source": [
    "---"
   ]
  },
  {
   "cell_type": "markdown",
   "metadata": {},
   "source": [
    "## Data plotting"
   ]
  },
  {
   "cell_type": "code",
   "execution_count": 11,
   "metadata": {},
   "outputs": [
    {
     "data": {
      "image/png": "[encoded data removed]",
      "text/plain": [
       "<Figure size 1400x700 with 2 Axes>"
      ]
     },
     "metadata": {},
     "output_type": "display_data"
    }
   ],
   "source": [
    "# Plot longitude against time with point color based on latitude\n",
    "fig, ax = plt.subplots(figsize=(14, 7))\n",
    "cmap = plt.get_cmap(\"coolwarm\")\n",
    "norm = plt.Normalize(vmin=-40, vmax=40)  # Latitude range for color mapping\n",
    "\n",
    "for track in cleaned_data:\n",
    "    lons = [p.lon.deg for p in track['positions_helio']]\n",
    "    lats = [p.lat.deg for p in track['positions_helio']]  # for color\n",
    "    times = track['times']\n",
    "\n",
    "    sc = ax.scatter(times, lons, c=lats, cmap='coolwarm', s=10, alpha=0.7, edgecolors='none')\n",
    "    \n",
    "    for t, lon, lat in zip(times, lons, lats):\n",
    "        color = cmap(norm(lat))\n",
    "        ax.errorbar(t, lon, yerr=ANGLE_UNCERTAINTY, fmt='o', color=color, ecolor=color, alpha=0.7, markersize=4)\n",
    "\n",
    "\n",
    "# Formatting\n",
    "ax.set_title(\"Sunspot Longitude vs Time Colored by Latitude\")\n",
    "ax.set_xlabel(\"Time\")\n",
    "ax.set_ylabel(\"Heliographic Longitude (°)\")\n",
    "ax.xaxis.set_major_formatter(mdates.DateFormatter('%m/%d'))\n",
    "ax.xaxis.set_major_locator(mdates.AutoDateLocator(maxticks=10))\n",
    "ax.grid(True)\n",
    "\n",
    "# Add colorbar\n",
    "cbar = plt.colorbar(sc, ax=ax)\n",
    "cbar.set_label(\"Latitude (°)\")\n",
    "\n",
    "plt.tight_layout()\n",
    "plt.show()\n"
   ]
  },
  {
   "cell_type": "markdown",
   "metadata": {},
   "source": [
    "Angular velocity is calculated as:\n",
    "$$\n",
    "\\omega = \\frac{\\Delta \\theta}{\\Delta t}.\n",
    "$$\n",
    "\n",
    "By the error propogation formula, this means that our error can be found by:\n",
    "$$\n",
    "\\delta \\omega = \\omega \\sqrt{\\left(\\frac{\\delta \\theta}{\\Delta \\theta}\\right)^{2} + \\left(\\frac{\\delta t}{\\Delta t}\\right)^{2}}\n",
    "$$"
   ]
  },
  {
   "cell_type": "code",
   "execution_count": 12,
   "metadata": {},
   "outputs": [
    {
     "name": "stdout",
     "output_type": "stream",
     "text": [
      "Number of tracks with more than 4 velocity points is: 20\n"
     ]
    }
   ],
   "source": [
    "filtered_tracks = [track for track in cleaned_data if len(track['velocities']) >= 4]\n",
    "print(f\"Number of tracks with more than 4 velocity points is: {len(filtered_tracks)}\")"
   ]
  },
  {
   "cell_type": "code",
   "execution_count": 13,
   "metadata": {},
   "outputs": [],
   "source": [
    "# Filtering through the data to take data every other frame (3 hour cadence)\n",
    "new_data = []\n",
    "for track in filtered_tracks:\n",
    "    new_track = {}\n",
    "    for key in track.keys():\n",
    "        new_track[key] = track[key][::2] # The fewer points you take, the lower the error\n",
    "    new_data.append(new_track)"
   ]
  },
  {
   "cell_type": "code",
   "execution_count": 14,
   "metadata": {},
   "outputs": [
    {
     "name": "stdout",
     "output_type": "stream",
     "text": [
      "The solar latitudes from the data are -31.92398318354489 ~ 10.932932944289753\n"
     ]
    }
   ],
   "source": [
    "latitudes = []\n",
    "for track in filtered_tracks:\n",
    "    for coord in track['positions_helio']:\n",
    "        latitudes.append(coord.lat.deg)\n",
    "max_latitude = max(latitudes)\n",
    "min_latitude = min(latitudes)\n",
    "print(f\"The solar latitudes from the data are {min_latitude} ~ {max_latitude}\")"
   ]
  },
  {
   "cell_type": "code",
   "execution_count": 15,
   "metadata": {},
   "outputs": [
    {
     "data": {
      "text/html": [
       "<div>\n",
       "<style scoped>\n",
       "    .dataframe tbody tr th:only-of-type {\n",
       "        vertical-align: middle;\n",
       "    }\n",
       "\n",
       "    .dataframe tbody tr th {\n",
       "        vertical-align: top;\n",
       "    }\n",
       "\n",
       "    .dataframe thead th {\n",
       "        text-align: right;\n",
       "    }\n",
       "</style>\n",
       "<table border=\"1\" class=\"dataframe\">\n",
       "  <thead>\n",
       "    <tr style=\"text-align: right;\">\n",
       "      <th></th>\n",
       "      <th>mean_period</th>\n",
       "      <th>std_velocity</th>\n",
       "      <th>mean_error</th>\n",
       "      <th>median_latitude</th>\n",
       "      <th>num_points</th>\n",
       "    </tr>\n",
       "  </thead>\n",
       "  <tbody>\n",
       "    <tr>\n",
       "      <th>0</th>\n",
       "      <td>28.822681</td>\n",
       "      <td>3.358629</td>\n",
       "      <td>3.357827</td>\n",
       "      <td>-3.451365</td>\n",
       "      <td>14</td>\n",
       "    </tr>\n",
       "    <tr>\n",
       "      <th>1</th>\n",
       "      <td>25.602780</td>\n",
       "      <td>4.351005</td>\n",
       "      <td>3.775736</td>\n",
       "      <td>10.285554</td>\n",
       "      <td>14</td>\n",
       "    </tr>\n",
       "    <tr>\n",
       "      <th>2</th>\n",
       "      <td>27.614237</td>\n",
       "      <td>1.544177</td>\n",
       "      <td>3.359523</td>\n",
       "      <td>10.529968</td>\n",
       "      <td>18</td>\n",
       "    </tr>\n",
       "    <tr>\n",
       "      <th>3</th>\n",
       "      <td>27.311148</td>\n",
       "      <td>0.969014</td>\n",
       "      <td>3.025392</td>\n",
       "      <td>-31.910766</td>\n",
       "      <td>5</td>\n",
       "    </tr>\n",
       "    <tr>\n",
       "      <th>4</th>\n",
       "      <td>27.149554</td>\n",
       "      <td>1.782542</td>\n",
       "      <td>3.542805</td>\n",
       "      <td>-12.943442</td>\n",
       "      <td>24</td>\n",
       "    </tr>\n",
       "    <tr>\n",
       "      <th>5</th>\n",
       "      <td>25.105500</td>\n",
       "      <td>1.978705</td>\n",
       "      <td>3.866854</td>\n",
       "      <td>-13.204381</td>\n",
       "      <td>6</td>\n",
       "    </tr>\n",
       "    <tr>\n",
       "      <th>6</th>\n",
       "      <td>24.938192</td>\n",
       "      <td>1.299441</td>\n",
       "      <td>3.894045</td>\n",
       "      <td>9.874696</td>\n",
       "      <td>10</td>\n",
       "    </tr>\n",
       "    <tr>\n",
       "      <th>7</th>\n",
       "      <td>29.646449</td>\n",
       "      <td>0.162104</td>\n",
       "      <td>2.996624</td>\n",
       "      <td>-12.719825</td>\n",
       "      <td>5</td>\n",
       "    </tr>\n",
       "    <tr>\n",
       "      <th>8</th>\n",
       "      <td>30.561101</td>\n",
       "      <td>2.271371</td>\n",
       "      <td>3.249719</td>\n",
       "      <td>10.678020</td>\n",
       "      <td>5</td>\n",
       "    </tr>\n",
       "    <tr>\n",
       "      <th>9</th>\n",
       "      <td>26.295378</td>\n",
       "      <td>2.579656</td>\n",
       "      <td>3.723192</td>\n",
       "      <td>9.970103</td>\n",
       "      <td>9</td>\n",
       "    </tr>\n",
       "    <tr>\n",
       "      <th>10</th>\n",
       "      <td>27.959259</td>\n",
       "      <td>2.523451</td>\n",
       "      <td>3.498899</td>\n",
       "      <td>5.641161</td>\n",
       "      <td>15</td>\n",
       "    </tr>\n",
       "    <tr>\n",
       "      <th>11</th>\n",
       "      <td>28.566431</td>\n",
       "      <td>1.981224</td>\n",
       "      <td>3.297126</td>\n",
       "      <td>-17.893808</td>\n",
       "      <td>11</td>\n",
       "    </tr>\n",
       "    <tr>\n",
       "      <th>12</th>\n",
       "      <td>24.976648</td>\n",
       "      <td>2.031608</td>\n",
       "      <td>3.921716</td>\n",
       "      <td>-17.892160</td>\n",
       "      <td>3</td>\n",
       "    </tr>\n",
       "    <tr>\n",
       "      <th>13</th>\n",
       "      <td>27.258775</td>\n",
       "      <td>2.130669</td>\n",
       "      <td>3.602980</td>\n",
       "      <td>5.471028</td>\n",
       "      <td>51</td>\n",
       "    </tr>\n",
       "    <tr>\n",
       "      <th>14</th>\n",
       "      <td>27.107126</td>\n",
       "      <td>2.213166</td>\n",
       "      <td>3.509396</td>\n",
       "      <td>6.660571</td>\n",
       "      <td>32</td>\n",
       "    </tr>\n",
       "    <tr>\n",
       "      <th>15</th>\n",
       "      <td>28.501988</td>\n",
       "      <td>2.065973</td>\n",
       "      <td>3.343402</td>\n",
       "      <td>10.469272</td>\n",
       "      <td>36</td>\n",
       "    </tr>\n",
       "    <tr>\n",
       "      <th>16</th>\n",
       "      <td>28.308121</td>\n",
       "      <td>2.406177</td>\n",
       "      <td>3.486968</td>\n",
       "      <td>6.298105</td>\n",
       "      <td>15</td>\n",
       "    </tr>\n",
       "    <tr>\n",
       "      <th>17</th>\n",
       "      <td>26.166320</td>\n",
       "      <td>1.895702</td>\n",
       "      <td>3.613761</td>\n",
       "      <td>8.628466</td>\n",
       "      <td>8</td>\n",
       "    </tr>\n",
       "    <tr>\n",
       "      <th>18</th>\n",
       "      <td>29.909917</td>\n",
       "      <td>1.898404</td>\n",
       "      <td>3.022716</td>\n",
       "      <td>-10.112608</td>\n",
       "      <td>7</td>\n",
       "    </tr>\n",
       "    <tr>\n",
       "      <th>19</th>\n",
       "      <td>30.529545</td>\n",
       "      <td>0.035399</td>\n",
       "      <td>2.658967</td>\n",
       "      <td>6.934005</td>\n",
       "      <td>3</td>\n",
       "    </tr>\n",
       "  </tbody>\n",
       "</table>\n",
       "</div>"
      ],
      "text/plain": [
       "    mean_period  std_velocity  mean_error  median_latitude  num_points\n",
       "0     28.822681      3.358629    3.357827        -3.451365          14\n",
       "1     25.602780      4.351005    3.775736        10.285554          14\n",
       "2     27.614237      1.544177    3.359523        10.529968          18\n",
       "3     27.311148      0.969014    3.025392       -31.910766           5\n",
       "4     27.149554      1.782542    3.542805       -12.943442          24\n",
       "5     25.105500      1.978705    3.866854       -13.204381           6\n",
       "6     24.938192      1.299441    3.894045         9.874696          10\n",
       "7     29.646449      0.162104    2.996624       -12.719825           5\n",
       "8     30.561101      2.271371    3.249719        10.678020           5\n",
       "9     26.295378      2.579656    3.723192         9.970103           9\n",
       "10    27.959259      2.523451    3.498899         5.641161          15\n",
       "11    28.566431      1.981224    3.297126       -17.893808          11\n",
       "12    24.976648      2.031608    3.921716       -17.892160           3\n",
       "13    27.258775      2.130669    3.602980         5.471028          51\n",
       "14    27.107126      2.213166    3.509396         6.660571          32\n",
       "15    28.501988      2.065973    3.343402        10.469272          36\n",
       "16    28.308121      2.406177    3.486968         6.298105          15\n",
       "17    26.166320      1.895702    3.613761         8.628466           8\n",
       "18    29.909917      1.898404    3.022716       -10.112608           7\n",
       "19    30.529545      0.035399    2.658967         6.934005           3"
      ]
     },
     "execution_count": 15,
     "metadata": {},
     "output_type": "execute_result"
    }
   ],
   "source": [
    "track_summaries = []\n",
    "\n",
    "for track in new_data:\n",
    "    times = track['times']\n",
    "    lons = [p.lon.deg for p in track['positions_helio']]\n",
    "    lats = [p.lat.deg for p in track['positions_helio']]\n",
    "    velocities = track['velocities']\n",
    "\n",
    "    velocity_errors = []\n",
    "    for i in range(1, len(times)):\n",
    "        delta_lambda = lons[i] - lons[i-1]\n",
    "        delta_t_days = (times[i] - times[i-1]).total_seconds() / (3600 * 24)\n",
    "\n",
    "        if delta_t_days == 0:\n",
    "            continue\n",
    "\n",
    "        # Propagate error\n",
    "        error = velocities[i-1] * np.sqrt(\n",
    "            (ANGLE_UNCERTAINTY / delta_lambda) ** 2 +\n",
    "            (DAY_UNCERTAINTY / delta_t_days) ** 2\n",
    "        )\n",
    "        velocity_errors.append(error)\n",
    "\n",
    "    mean_velocity = np.mean(velocities)\n",
    "    std_velocity = np.std(velocities)\n",
    "    mean_error = np.mean(velocity_errors)\n",
    "    median_latitude = np.median(lats)\n",
    "    \n",
    "    mean_period = 360 / mean_velocity\n",
    "    mean_period_error = (mean_error / mean_velocity) * mean_period\n",
    "\n",
    "    track_summaries.append({\n",
    "        \"mean_period\": mean_period,\n",
    "        \"std_velocity\": std_velocity,\n",
    "        \"mean_error\": mean_error,\n",
    "        \"median_latitude\": median_latitude,\n",
    "        \"num_points\": len(times)\n",
    "    })\n",
    "\n",
    "summary_df = pd.DataFrame(track_summaries)\n",
    "summary_df\n"
   ]
  },
  {
   "cell_type": "code",
   "execution_count": 16,
   "metadata": {},
   "outputs": [
    {
     "data": {
      "text/html": [
       "<div>\n",
       "<style scoped>\n",
       "    .dataframe tbody tr th:only-of-type {\n",
       "        vertical-align: middle;\n",
       "    }\n",
       "\n",
       "    .dataframe tbody tr th {\n",
       "        vertical-align: top;\n",
       "    }\n",
       "\n",
       "    .dataframe thead th {\n",
       "        text-align: right;\n",
       "    }\n",
       "</style>\n",
       "<table border=\"1\" class=\"dataframe\">\n",
       "  <thead>\n",
       "    <tr style=\"text-align: right;\">\n",
       "      <th></th>\n",
       "      <th>mean_period</th>\n",
       "      <th>std_velocity</th>\n",
       "      <th>mean_error</th>\n",
       "      <th>median_latitude</th>\n",
       "      <th>num_points</th>\n",
       "    </tr>\n",
       "  </thead>\n",
       "  <tbody>\n",
       "    <tr>\n",
       "      <th>0</th>\n",
       "      <td>28.822681</td>\n",
       "      <td>3.358629</td>\n",
       "      <td>3.357827</td>\n",
       "      <td>-3.451365</td>\n",
       "      <td>14</td>\n",
       "    </tr>\n",
       "    <tr>\n",
       "      <th>1</th>\n",
       "      <td>25.602780</td>\n",
       "      <td>4.351005</td>\n",
       "      <td>3.775736</td>\n",
       "      <td>10.285554</td>\n",
       "      <td>14</td>\n",
       "    </tr>\n",
       "    <tr>\n",
       "      <th>2</th>\n",
       "      <td>27.614237</td>\n",
       "      <td>1.544177</td>\n",
       "      <td>3.359523</td>\n",
       "      <td>10.529968</td>\n",
       "      <td>18</td>\n",
       "    </tr>\n",
       "    <tr>\n",
       "      <th>3</th>\n",
       "      <td>27.311148</td>\n",
       "      <td>0.969014</td>\n",
       "      <td>3.025392</td>\n",
       "      <td>-31.910766</td>\n",
       "      <td>5</td>\n",
       "    </tr>\n",
       "    <tr>\n",
       "      <th>4</th>\n",
       "      <td>27.149554</td>\n",
       "      <td>1.782542</td>\n",
       "      <td>3.542805</td>\n",
       "      <td>-12.943442</td>\n",
       "      <td>24</td>\n",
       "    </tr>\n",
       "    <tr>\n",
       "      <th>5</th>\n",
       "      <td>25.105500</td>\n",
       "      <td>1.978705</td>\n",
       "      <td>3.866854</td>\n",
       "      <td>-13.204381</td>\n",
       "      <td>6</td>\n",
       "    </tr>\n",
       "    <tr>\n",
       "      <th>6</th>\n",
       "      <td>24.938192</td>\n",
       "      <td>1.299441</td>\n",
       "      <td>3.894045</td>\n",
       "      <td>9.874696</td>\n",
       "      <td>10</td>\n",
       "    </tr>\n",
       "    <tr>\n",
       "      <th>7</th>\n",
       "      <td>29.646449</td>\n",
       "      <td>0.162104</td>\n",
       "      <td>2.996624</td>\n",
       "      <td>-12.719825</td>\n",
       "      <td>5</td>\n",
       "    </tr>\n",
       "    <tr>\n",
       "      <th>8</th>\n",
       "      <td>30.561101</td>\n",
       "      <td>2.271371</td>\n",
       "      <td>3.249719</td>\n",
       "      <td>10.678020</td>\n",
       "      <td>5</td>\n",
       "    </tr>\n",
       "    <tr>\n",
       "      <th>9</th>\n",
       "      <td>26.295378</td>\n",
       "      <td>2.579656</td>\n",
       "      <td>3.723192</td>\n",
       "      <td>9.970103</td>\n",
       "      <td>9</td>\n",
       "    </tr>\n",
       "    <tr>\n",
       "      <th>10</th>\n",
       "      <td>27.959259</td>\n",
       "      <td>2.523451</td>\n",
       "      <td>3.498899</td>\n",
       "      <td>5.641161</td>\n",
       "      <td>15</td>\n",
       "    </tr>\n",
       "    <tr>\n",
       "      <th>11</th>\n",
       "      <td>28.566431</td>\n",
       "      <td>1.981224</td>\n",
       "      <td>3.297126</td>\n",
       "      <td>-17.893808</td>\n",
       "      <td>11</td>\n",
       "    </tr>\n",
       "    <tr>\n",
       "      <th>12</th>\n",
       "      <td>24.976648</td>\n",
       "      <td>2.031608</td>\n",
       "      <td>3.921716</td>\n",
       "      <td>-17.892160</td>\n",
       "      <td>3</td>\n",
       "    </tr>\n",
       "    <tr>\n",
       "      <th>13</th>\n",
       "      <td>27.258775</td>\n",
       "      <td>2.130669</td>\n",
       "      <td>3.602980</td>\n",
       "      <td>5.471028</td>\n",
       "      <td>51</td>\n",
       "    </tr>\n",
       "    <tr>\n",
       "      <th>14</th>\n",
       "      <td>27.107126</td>\n",
       "      <td>2.213166</td>\n",
       "      <td>3.509396</td>\n",
       "      <td>6.660571</td>\n",
       "      <td>32</td>\n",
       "    </tr>\n",
       "    <tr>\n",
       "      <th>15</th>\n",
       "      <td>28.501988</td>\n",
       "      <td>2.065973</td>\n",
       "      <td>3.343402</td>\n",
       "      <td>10.469272</td>\n",
       "      <td>36</td>\n",
       "    </tr>\n",
       "    <tr>\n",
       "      <th>16</th>\n",
       "      <td>28.308121</td>\n",
       "      <td>2.406177</td>\n",
       "      <td>3.486968</td>\n",
       "      <td>6.298105</td>\n",
       "      <td>15</td>\n",
       "    </tr>\n",
       "    <tr>\n",
       "      <th>17</th>\n",
       "      <td>26.166320</td>\n",
       "      <td>1.895702</td>\n",
       "      <td>3.613761</td>\n",
       "      <td>8.628466</td>\n",
       "      <td>8</td>\n",
       "    </tr>\n",
       "    <tr>\n",
       "      <th>18</th>\n",
       "      <td>29.909917</td>\n",
       "      <td>1.898404</td>\n",
       "      <td>3.022716</td>\n",
       "      <td>-10.112608</td>\n",
       "      <td>7</td>\n",
       "    </tr>\n",
       "    <tr>\n",
       "      <th>19</th>\n",
       "      <td>30.529545</td>\n",
       "      <td>0.035399</td>\n",
       "      <td>2.658967</td>\n",
       "      <td>6.934005</td>\n",
       "      <td>3</td>\n",
       "    </tr>\n",
       "  </tbody>\n",
       "</table>\n",
       "</div>"
      ],
      "text/plain": [
       "    mean_period  std_velocity  mean_error  median_latitude  num_points\n",
       "0     28.822681      3.358629    3.357827        -3.451365          14\n",
       "1     25.602780      4.351005    3.775736        10.285554          14\n",
       "2     27.614237      1.544177    3.359523        10.529968          18\n",
       "3     27.311148      0.969014    3.025392       -31.910766           5\n",
       "4     27.149554      1.782542    3.542805       -12.943442          24\n",
       "5     25.105500      1.978705    3.866854       -13.204381           6\n",
       "6     24.938192      1.299441    3.894045         9.874696          10\n",
       "7     29.646449      0.162104    2.996624       -12.719825           5\n",
       "8     30.561101      2.271371    3.249719        10.678020           5\n",
       "9     26.295378      2.579656    3.723192         9.970103           9\n",
       "10    27.959259      2.523451    3.498899         5.641161          15\n",
       "11    28.566431      1.981224    3.297126       -17.893808          11\n",
       "12    24.976648      2.031608    3.921716       -17.892160           3\n",
       "13    27.258775      2.130669    3.602980         5.471028          51\n",
       "14    27.107126      2.213166    3.509396         6.660571          32\n",
       "15    28.501988      2.065973    3.343402        10.469272          36\n",
       "16    28.308121      2.406177    3.486968         6.298105          15\n",
       "17    26.166320      1.895702    3.613761         8.628466           8\n",
       "18    29.909917      1.898404    3.022716       -10.112608           7\n",
       "19    30.529545      0.035399    2.658967         6.934005           3"
      ]
     },
     "execution_count": 16,
     "metadata": {},
     "output_type": "execute_result"
    }
   ],
   "source": [
    "std_filtered_tracks = [track for track in track_summaries if track['std_velocity'] < 5]\n",
    "\n",
    "final_data = std_filtered_tracks\n",
    "\n",
    "\n",
    "#find the point with lowest longitude and latitude\n",
    "#remove all points with mean period higher than the max value\n",
    "\n",
    "# lat_filtered_std_filtered_tracks = sorted(std_filtered_tracks, key = lambda x: abs(x['median_latitude']))\n",
    "# center_point = std_filtered_tracks[0]\n",
    "\n",
    "# final_data = [track for track in lat_filtered_std_filtered_tracks if (track['mean_period'] - track['mean_error']) < center_point['mean_period']]\n",
    "# final_data = [track for track in std_filtered_tracks if track['mean_period'] < 30]\n",
    "\n",
    "\n",
    "filtered_df = pd.DataFrame(final_data)\n",
    "filtered_df"
   ]
  },
  {
   "cell_type": "code",
   "execution_count": 17,
   "metadata": {},
   "outputs": [
    {
     "data": {
      "image/png": "[encoded data removed]",
      "text/plain": [
       "<Figure size 1000x600 with 1 Axes>"
      ]
     },
     "metadata": {},
     "output_type": "display_data"
    }
   ],
   "source": [
    "# Plot mean velocity vs median latitude with error bars\n",
    "fig, ax = plt.subplots(figsize=(10, 6))\n",
    "\n",
    "ax.errorbar(\n",
    "    filtered_df['median_latitude'],\n",
    "    filtered_df['mean_period'],\n",
    "    yerr=filtered_df['mean_error'],\n",
    "    fmt='o',\n",
    "    color='teal',\n",
    "    ecolor='gray',\n",
    "    alpha=0.8,\n",
    "    label='Mean velocity ± error'\n",
    ")\n",
    "\n",
    "ax.set_title(\"Sunspot rotational period vs Latitude\")\n",
    "ax.set_xlabel(\"Latitude (°)\")\n",
    "ax.set_ylabel(\"Rotational period (days)\")\n",
    "ax.axhline(0, color='black', linewidth=0.5)\n",
    "ax.grid(True)\n",
    "ax.legend()\n",
    "plt.tight_layout()\n",
    "plt.show()\n"
   ]
  },
  {
   "cell_type": "code",
   "execution_count": 18,
   "metadata": {},
   "outputs": [
    {
     "name": "stdout",
     "output_type": "stream",
     "text": [
      "The calculated period is 27.616557390726946 ± 3.4373824492601317 days\n"
     ]
    }
   ],
   "source": [
    "track_periods = []\n",
    "track_errors = []\n",
    "for track in final_data:\n",
    "    track_periods.append(track['mean_period'])\n",
    "    track_errors.append(track['mean_error'])\n",
    "mean_period = np.mean(track_periods)\n",
    "mean_error = np.mean(track_errors)\n",
    "\n",
    "print(f\"The calculated period is {mean_period} ± {mean_error} days\")"
   ]
  },
  {
   "cell_type": "markdown",
   "metadata": {},
   "source": [
    "Considering the actual solar rotation period varies from 25 days to around 30 days, this calculation seems to work quite well!\n",
    "\n",
    "But let's try to plot it against a published model."
   ]
  },
  {
   "cell_type": "markdown",
   "metadata": {},
   "source": [
    "The hypothetical model to be fit to is this:\n",
    "$$\n",
    "\\omega(\\varphi) = A + B\\sin^2(\\varphi) + C\\sin^4(\\varphi)\n",
    "$$\n",
    "where $\\omega(\\varphi)$ is the longitudinal angular velocity, $A,B,C$ are tuneable parameters, and $\\varphi$ is the angle in radians of latitude.\n",
    "\n",
    "The canonical values are:\n",
    "\n",
    "$A = 14.5$,\n",
    "\n",
    "$B = -2.8$,\n",
    "\n",
    "$C = -0.3$."
   ]
  },
  {
   "cell_type": "code",
   "execution_count": 19,
   "metadata": {},
   "outputs": [],
   "source": [
    "def latitude_model(phi_deg, A, B, C):\n",
    "    phi = phi_deg*np.pi/180\n",
    "    omega = A + B*(np.sin(phi))**2 + C*(np.sin(phi))**4\n",
    "    return 360/omega\n",
    "\n",
    "from scipy.optimize import curve_fit\n",
    "\n",
    "latitudes = filtered_df['median_latitude']\n",
    "periods = filtered_df['mean_period']\n",
    "period_errors = filtered_df['mean_error']\n",
    "\n",
    "popt, pcov = curve_fit(latitude_model, latitudes, periods, sigma=period_errors, absolute_sigma=True)\n",
    "\n",
    "# popt contains optimal A, B, C\n",
    "A, B, C = popt\n",
    "\n",
    "# uncertainties (standard deviation) of A, B, C\n",
    "A_err, B_err, C_err = np.sqrt(np.diag(pcov))\n"
   ]
  },
  {
   "cell_type": "code",
   "execution_count": 20,
   "metadata": {},
   "outputs": [
    {
     "name": "stdout",
     "output_type": "stream",
     "text": [
      "fitted points:\n",
      "A = 12.600013892783501 ± 0.6896184433277073,\n",
      "B = 9.813056041839275 ± 22.198355076308165,\n",
      "C = -27.649406124335904 ± 76.59691312773282.\n"
     ]
    }
   ],
   "source": [
    "print(f\"fitted points:\\nA = {A} ± {A_err},\\nB = {B} ± {B_err},\\nC = {C} ± {C_err}.\")"
   ]
  },
  {
   "cell_type": "code",
   "execution_count": null,
   "metadata": {},
   "outputs": [
    {
     "data": {
      "image/png": "[encoded data removed]",
      "text/plain": [
       "<Figure size 1000x600 with 1 Axes>"
      ]
     },
     "metadata": {},
     "output_type": "display_data"
    }
   ],
   "source": [
    "# Plot mean velocity vs median latitude with error bars\n",
    "fig, ax = plt.subplots(figsize=(10, 6))\n",
    "\n",
    "ax.errorbar(\n",
    "    filtered_df['median_latitude'],\n",
    "    filtered_df['mean_period'],\n",
    "    yerr=filtered_df['mean_error'],\n",
    "    fmt='o',\n",
    "    color='teal',\n",
    "    ecolor='gray',\n",
    "    alpha=0.8,\n",
    "    label='Mean velocity ± error'\n",
    ")\n",
    "\n",
    "lats = np.linspace(min_latitude,max_latitude,10**3)\n",
    "model = latitude_model(lats,*popt)\n",
    "ax.plot(lats,model, '--', label=\"Best fit from data\")\n",
    "\n",
    "# low_estimate = latitude_model(lats, A-A_err, B-B_err,C-C_err)\n",
    "# ax.plot(lats,low_estimate,'--')\n",
    "\n",
    "high_estimate = latitude_model(lats, A+A_err, B-B_err/2,C+C_err/4)\n",
    "ax.plot(lats, high_estimate, '--', label = \"Highest estimate from data\")\n",
    "\n",
    "actual = latitude_model(lats, 14.5, -2.8, -0.3)\n",
    "ax.plot(lats, actual)\n",
    "\n",
    "\n",
    "ax.set_title(\"Sunspot rotational period vs Latitude\")\n",
    "ax.set_xlabel(\"Latitude (°)\")\n",
    "ax.set_ylabel(\"Rotational period (days)\")\n",
    "ax.axhline(0, color='black', linewidth=0.5)\n",
    "ax.grid(True)\n",
    "ax.legend()\n",
    "plt.tight_layout()\n",
    "plt.show()"
   ]
  }
 ],
 "metadata": {
  "kernelspec": {
   "display_name": "SOHO_DML",
   "language": "python",
   "name": "python3"
  },
  "language_info": {
   "codemirror_mode": {
    "name": "ipython",
    "version": 3
   },
   "file_extension": ".py",
   "mimetype": "text/x-python",
   "name": "python",
   "nbconvert_exporter": "python",
   "pygments_lexer": "ipython3",
   "version": "3.13.3"
  }
 },
 "nbformat": 4,
 "nbformat_minor": 2
}
